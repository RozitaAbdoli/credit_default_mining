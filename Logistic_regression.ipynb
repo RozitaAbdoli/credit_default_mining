{
  "nbformat": 4,
  "nbformat_minor": 0,
  "metadata": {
    "colab": {
      "name": "Logistic_regression",
      "provenance": [],
      "collapsed_sections": [],
      "authorship_tag": "ABX9TyNqwjE6sU/0JFWDJTZ4+EvI",
      "include_colab_link": true
    },
    "kernelspec": {
      "display_name": "Python 3",
      "name": "python3"
    },
    "language_info": {
      "name": "python"
    }
  },
  "cells": [
    {
      "cell_type": "markdown",
      "metadata": {
        "id": "view-in-github",
        "colab_type": "text"
      },
      "source": [
        "<a href=\"https://colab.research.google.com/github/RozitaAbdoli/credit_default_mining/blob/main/Logistic_regression.ipynb\" target=\"_parent\"><img src=\"https://colab.research.google.com/assets/colab-badge.svg\" alt=\"Open In Colab\"/></a>"
      ]
    },
    {
      "cell_type": "markdown",
      "metadata": {
        "id": "ee4umu97Z645"
      },
      "source": [
        "In this notebook:\n",
        "* Hyper-parameter tuning for LR using Grid Search cross validation\n",
        "* Applying elastic net regularization (LASSO+Rigde) with 'saga' solver\n",
        "* Running Logistic Regression with selected features from XGBooster algorithm\n",
        "* It should be considered that linear regression assumes input data has a linear relation with the target, there are no outliers, no collinearity, normal distribution, and since it's a distance-based algorithm, predictors should be scaled."
      ]
    },
    {
      "cell_type": "code",
      "metadata": {
        "id": "-kKQoSIMr0OM"
      },
      "source": [
        "import pandas as pd\n",
        "import numpy as np\n",
        "import seaborn as sns\n",
        "import matplotlib.pyplot as plt\n",
        "\n",
        "from sklearn.model_selection import train_test_split\n",
        "from sklearn.linear_model import LogisticRegression\n",
        "from sklearn.metrics import confusion_matrix, accuracy_score, precision_score, recall_score, roc_curve, roc_auc_score\n",
        "from sklearn import preprocessing\n",
        "\n",
        "from imblearn.combine import SMOTETomek \n",
        "\n",
        "from sklearn.model_selection import GridSearchCV\n",
        "from sklearn.model_selection import RepeatedKFold\n",
        "from sklearn.model_selection import cross_val_score\n",
        "from numpy import mean\n",
        "from numpy import std"
      ],
      "execution_count": null,
      "outputs": []
    },
    {
      "cell_type": "code",
      "metadata": {
        "colab": {
          "base_uri": "https://localhost:8080/"
        },
        "id": "TJyXv-5cX7Nr",
        "outputId": "91cda414-f6fb-4ff9-db42-fa25e48bc1fe"
      },
      "source": [
        "#Import Drive API and authenticate\n",
        "from google.colab import drive\n",
        "#Mount Drive to the Colab VM\n",
        "drive.mount('/content/drive')"
      ],
      "execution_count": null,
      "outputs": [
        {
          "output_type": "stream",
          "name": "stdout",
          "text": [
            "Drive already mounted at /content/drive; to attempt to forcibly remount, call drive.mount(\"/content/drive\", force_remount=True).\n"
          ]
        }
      ]
    },
    {
      "cell_type": "code",
      "metadata": {
        "id": "Kx4h0qZs5jqT"
      },
      "source": [
        "#Load the dataset into pandas DataFrame\n",
        "df = pd.read_csv(\"/content/drive/MyDrive/Capstone_project/v2_credit_default.csv\")"
      ],
      "execution_count": null,
      "outputs": []
    },
    {
      "cell_type": "code",
      "metadata": {
        "id": "OLEIVF9_JVeW"
      },
      "source": [
        "#Seperate the independent and dependent variables.\n",
        "df_independent = df.drop(['Default'], axis=1)\n",
        "df_default = df['Default']"
      ],
      "execution_count": null,
      "outputs": []
    },
    {
      "cell_type": "code",
      "metadata": {
        "id": "oqNu2ax6JfQN"
      },
      "source": [
        "# split the data into 80% training+validation and 20% test\n",
        "X_train, X_test, y_train, y_test = train_test_split(df_independent, df_default, test_size=0.20, random_state=1) "
      ],
      "execution_count": null,
      "outputs": []
    },
    {
      "cell_type": "code",
      "metadata": {
        "colab": {
          "base_uri": "https://localhost:8080/",
          "height": 330
        },
        "id": "r1u3eF62KNQX",
        "outputId": "e97dfdef-cbf9-4572-d38c-1a7e12075a4f"
      },
      "source": [
        "#Make sure the distribution of the dependent variable is the same in both training+validation and test sets.\n",
        "y_train.value_counts().plot(kind='bar', title='Class distribution: Training + validation data');\n",
        "y_train.value_counts()    #22% defaulters in the training+validation data"
      ],
      "execution_count": null,
      "outputs": [
        {
          "output_type": "execute_result",
          "data": {
            "text/plain": [
              "0    18670\n",
              "1     5302\n",
              "Name: Default, dtype: int64"
            ]
          },
          "metadata": {},
          "execution_count": 42
        },
        {
          "output_type": "display_data",
          "data": {
            "image/png": "[encoded data removed]",
            "text/plain": [
              "<Figure size 432x288 with 1 Axes>"
            ]
          },
          "metadata": {
            "needs_background": "light"
          }
        }
      ]
    },
    {
      "cell_type": "code",
      "metadata": {
        "colab": {
          "base_uri": "https://localhost:8080/",
          "height": 330
        },
        "id": "jDO0EVe-Kpmn",
        "outputId": "2d250671-685b-48f0-adc8-50a866b9fcbc"
      },
      "source": [
        "# Test data\n",
        "y_test.value_counts().plot(kind='bar', title='Class distribution: Test data')\n",
        "y_test.value_counts() #22% defaulters in the test data"
      ],
      "execution_count": null,
      "outputs": [
        {
          "output_type": "execute_result",
          "data": {
            "text/plain": [
              "0    4665\n",
              "1    1328\n",
              "Name: Default, dtype: int64"
            ]
          },
          "metadata": {},
          "execution_count": 43
        },
        {
          "output_type": "display_data",
          "data": {
            "image/png": "[encoded data removed]",
            "text/plain": [
              "<Figure size 432x288 with 1 Axes>"
            ]
          },
          "metadata": {
            "needs_background": "light"
          }
        }
      ]
    },
    {
      "cell_type": "code",
      "metadata": {
        "id": "o1CRbftjKyzb"
      },
      "source": [
        "# Scale input variables for training+validation (X_train)\n",
        "X_train_scaled = preprocessing.MinMaxScaler().fit_transform(X_train)"
      ],
      "execution_count": null,
      "outputs": []
    },
    {
      "cell_type": "code",
      "metadata": {
        "colab": {
          "base_uri": "https://localhost:8080/"
        },
        "id": "iF0ePpG4LobB",
        "outputId": "739cc9aa-ebd6-4843-aa26-8b3ad676f9c1"
      },
      "source": [
        "# Balancing using SMOTE Tomek\n",
        "X_smt, y_smt = SMOTETomek(random_state=1).fit_sample(X_train_scaled, y_train.squeeze())"
      ],
      "execution_count": null,
      "outputs": [
        {
          "output_type": "stream",
          "name": "stderr",
          "text": [
            "/usr/local/lib/python3.7/dist-packages/sklearn/utils/deprecation.py:87: FutureWarning: Function safe_indexing is deprecated; safe_indexing is deprecated in version 0.22 and will be removed in version 0.24.\n",
            "  warnings.warn(msg, category=FutureWarning)\n",
            "/usr/local/lib/python3.7/dist-packages/sklearn/utils/deprecation.py:87: FutureWarning: Function safe_indexing is deprecated; safe_indexing is deprecated in version 0.22 and will be removed in version 0.24.\n",
            "  warnings.warn(msg, category=FutureWarning)\n"
          ]
        }
      ]
    },
    {
      "cell_type": "code",
      "metadata": {
        "id": "qIz5QO1KOXUc"
      },
      "source": [
        "# #hyperparameter adjustment with GridSearchCV\n",
        "# #NOTE: The 'newton-cg', 'sag', and 'lbfgs' solvers support only L2 regularization or no regularization. The 'liblinear' solver supports both L1 and L2 regularization.\n",
        "# model = LogisticRegression(random_state=1)\n",
        "\n",
        "# solver_options = ['newton-cg', 'lbfgs', 'liblinear', 'sag']\n",
        "# penalty_options = ['l1','l2']\n",
        "# C_options = [0.1, 0.5, 1, 5, 10, 50, 100]\n",
        "\n",
        "# param_grid = dict(solver = solver_options, penalty = penalty_options, C = C_options)\n",
        "# grid = GridSearchCV(model, param_grid, cv=10, scoring = 'accuracy')\n",
        "# grid.fit(X_smt,y_smt)\n",
        "# print (grid.best_params_) # {'C': 0.5, 'penalty': 'l2', 'solver': 'newton-cg'}\n",
        "# print (grid.best_score_) # output: 0.687"
      ],
      "execution_count": null,
      "outputs": []
    },
    {
      "cell_type": "code",
      "metadata": {
        "colab": {
          "base_uri": "https://localhost:8080/"
        },
        "id": "SpPvu9_LTqGk",
        "outputId": "828dfaf5-5bbb-4c53-9335-03e93ed8777a"
      },
      "source": [
        "#Now use the optimized hyperparameters\n",
        "cv = RepeatedKFold(n_splits=10, n_repeats=5, random_state=1)    #5 repeats of k=10-fold\n",
        "# create model\n",
        "model = LogisticRegression(random_state=1, C= 0.5, penalty = 'l2', solver= 'newton-cg')\n",
        "# evaluate model\n",
        "scores = cross_val_score(model, X_smt, y_smt, scoring='accuracy', cv=cv, n_jobs=-1)   # will have 50 scores (5 iterations x 10-folds)\n",
        "# report performance\n",
        "print('Accuracy: %.3f (%.3f)' % (mean(scores), std(scores)))"
      ],
      "execution_count": null,
      "outputs": [
        {
          "output_type": "stream",
          "name": "stdout",
          "text": [
            "Accuracy: 0.688 (0.008)\n"
          ]
        }
      ]
    },
    {
      "cell_type": "code",
      "metadata": {
        "colab": {
          "base_uri": "https://localhost:8080/"
        },
        "id": "mmzj8B3EUq2L",
        "outputId": "cfeb2de4-d004-4bf5-f1f0-d12112f9f091"
      },
      "source": [
        "# Now also try elasticnet penalty with saga solver\n",
        "# Can also use GridSearchCV  to find the optimal l1_ratio and C for elastic net + saga\n",
        "cv = RepeatedKFold(n_splits=10, n_repeats=5, random_state=1)    #5 repeats of k=10-fold\n",
        "# create model\n",
        "model = LogisticRegression(random_state=1, penalty = 'elasticnet', solver= 'saga', l1_ratio = 0.3)\n",
        "# evaluate model\n",
        "scores = cross_val_score(model, X_smt, y_smt, scoring='accuracy', cv=cv, n_jobs=-1)   # will have 50 scores (5 iterations x 10-folds)\n",
        "# report performance\n",
        "print('Accuracy: %.3f (%.3f)' % (mean(scores), std(scores)))"
      ],
      "execution_count": null,
      "outputs": [
        {
          "output_type": "stream",
          "name": "stdout",
          "text": [
            "Accuracy: 0.687 (0.008)\n"
          ]
        }
      ]
    },
    {
      "cell_type": "code",
      "metadata": {
        "id": "RLiGHs0OWAzp"
      },
      "source": [
        "#Finally test with the test set (X_test):\n",
        "# Fit the model\n",
        "model.fit(X_smt, y_smt)\n",
        "# Predict using the scaled X_test\n",
        "min_max_scaler = preprocessing.MinMaxScaler()\n",
        "X_test_scaled = preprocessing.MinMaxScaler().fit_transform(X_test)\n",
        "y_pred = model.predict(X_test_scaled)"
      ],
      "execution_count": null,
      "outputs": []
    },
    {
      "cell_type": "code",
      "metadata": {
        "colab": {
          "base_uri": "https://localhost:8080/"
        },
        "id": "RS2_YSgbYg94",
        "outputId": "c5ac4ca9-afce-4abf-9fae-2d1fe2115e2c"
      },
      "source": [
        "# performance metrics\n",
        "cm = confusion_matrix(y_test, y_pred)\n",
        "print(cm)\n",
        "print('accuracy', accuracy_score(y_test, y_pred))\n",
        "print('precision', precision_score(y_test, y_pred))\n",
        "print('recall', recall_score(y_test, y_pred))"
      ],
      "execution_count": null,
      "outputs": [
        {
          "output_type": "stream",
          "name": "stdout",
          "text": [
            "[[4289  376]\n",
            " [ 798  530]]\n",
            "accuracy 0.8041047889204072\n",
            "precision 0.5849889624724062\n",
            "recall 0.3990963855421687\n"
          ]
        }
      ]
    },
    {
      "cell_type": "code",
      "metadata": {
        "colab": {
          "base_uri": "https://localhost:8080/",
          "height": 295
        },
        "id": "0DQvICMnZdSI",
        "outputId": "97284eb9-599e-4c1d-b0ad-3cd32910f26b"
      },
      "source": [
        "# ROC curve, and ROC AUC\n",
        "y_pred_proba = model.predict_proba(X_test_scaled)[::,1] \n",
        "FPR, TPR, _ = roc_curve(y_test, y_pred_proba)            #roc_curve(y_true, y_score)\n",
        "auc = roc_auc_score(y_test, y_pred_proba)\n",
        "plt.plot(FPR,TPR,label=\"ROC AUC=\"+str(auc))\n",
        "plt.xlabel('FPR')\n",
        "plt.ylabel('TPR')\n",
        "plt.title('ROC curve')\n",
        "plt.legend(loc=4)  \n",
        "plt.show()"
      ],
      "execution_count": null,
      "outputs": [
        {
          "output_type": "display_data",
          "data": {
            "image/png": "[encoded data removed]",
            "text/plain": [
              "<Figure size 432x288 with 1 Axes>"
            ]
          },
          "metadata": {
            "needs_background": "light"
          }
        }
      ]
    },
    {
      "cell_type": "markdown",
      "metadata": {
        "id": "RsGWCn7uEJ9V"
      },
      "source": [
        "### Now run LR with selected features from XGBoost"
      ]
    },
    {
      "cell_type": "code",
      "metadata": {
        "id": "xoEF4UDVEJEe"
      },
      "source": [
        "#In XGBoost feature importance, top 5 features appeared in the top-10 list for both weight and gain. These features are selected here.\n",
        "df_selected = df[['AGE', 'LIMIT_BAL', 'Pay_Apr', 'Repay_Sept', 'Pay_Sept','Default' ]]"
      ],
      "execution_count": null,
      "outputs": []
    },
    {
      "cell_type": "code",
      "metadata": {
        "id": "zHY-cjEfRJRv"
      },
      "source": [
        "#Seperate the independent and dependent variables.\n",
        "df_independent = df_selected.drop(['Default'], axis=1)\n",
        "df_default = df_selected['Default']"
      ],
      "execution_count": null,
      "outputs": []
    },
    {
      "cell_type": "code",
      "metadata": {
        "colab": {
          "base_uri": "https://localhost:8080/",
          "height": 270
        },
        "id": "bTUP5eEkHTK8",
        "outputId": "b2befb85-b18f-4afa-e1b6-f486b28aa575"
      },
      "source": [
        "corr_matrix = df_independent.corr()\n",
        "sns.heatmap(corr_matrix, annot=True);\n",
        "# there is some correlation. But not a very strong correlation close to +1 or -1."
      ],
      "execution_count": null,
      "outputs": [
        {
          "output_type": "display_data",
          "data": {
            "image/png": "[encoded data removed]",
            "text/plain": [
              "<Figure size 432x288 with 2 Axes>"
            ]
          },
          "metadata": {
            "needs_background": "light"
          }
        }
      ]
    },
    {
      "cell_type": "code",
      "metadata": {
        "id": "Vdr3j4PSRgGi"
      },
      "source": [
        "# split the data into 70% training + 30% test\n",
        "X_train, X_test, y_train, y_test = train_test_split(df_independent, df_default, test_size=0.30, random_state=1) "
      ],
      "execution_count": null,
      "outputs": []
    },
    {
      "cell_type": "code",
      "metadata": {
        "id": "hXBF-0pdRulz"
      },
      "source": [
        "# Scale input variables for training\n",
        "X_train_scaled = preprocessing.MinMaxScaler().fit_transform(X_train)"
      ],
      "execution_count": null,
      "outputs": []
    },
    {
      "cell_type": "code",
      "metadata": {
        "colab": {
          "base_uri": "https://localhost:8080/"
        },
        "id": "e-B-ABb-R_Fu",
        "outputId": "2d7e64ff-4a5c-4a00-f9ac-5b7104df1639"
      },
      "source": [
        "# Balancing the training data using SMOTE Tomek\n",
        "X_smt, y_smt = SMOTETomek(random_state=1).fit_sample(X_train_scaled, y_train.squeeze())"
      ],
      "execution_count": null,
      "outputs": [
        {
          "output_type": "stream",
          "name": "stderr",
          "text": [
            "/usr/local/lib/python3.7/dist-packages/sklearn/utils/deprecation.py:87: FutureWarning: Function safe_indexing is deprecated; safe_indexing is deprecated in version 0.22 and will be removed in version 0.24.\n",
            "  warnings.warn(msg, category=FutureWarning)\n",
            "/usr/local/lib/python3.7/dist-packages/sklearn/utils/deprecation.py:87: FutureWarning: Function safe_indexing is deprecated; safe_indexing is deprecated in version 0.22 and will be removed in version 0.24.\n",
            "  warnings.warn(msg, category=FutureWarning)\n"
          ]
        }
      ]
    },
    {
      "cell_type": "code",
      "metadata": {
        "id": "Cf5rjVT4SS2m"
      },
      "source": [
        "# create model\n",
        "model = LogisticRegression(random_state=1, C= 0.5, penalty = 'l2', solver= 'newton-cg')   #optimized parameters from GridSearchCV\n",
        "# Fit the model\n",
        "model.fit(X_smt, y_smt)\n",
        "# Predict using the scaled X_test\n",
        "X_test_scaled = preprocessing.MinMaxScaler().fit_transform(X_test)\n",
        "y_pred = model.predict(X_test_scaled)"
      ],
      "execution_count": null,
      "outputs": []
    },
    {
      "cell_type": "code",
      "metadata": {
        "colab": {
          "base_uri": "https://localhost:8080/"
        },
        "id": "B43hEphESlrH",
        "outputId": "1588f2fc-36ed-448e-85e0-9f0a9be9f532"
      },
      "source": [
        "# performance metrics\n",
        "cm = confusion_matrix(y_test, y_pred)\n",
        "print(cm)\n",
        "print('accuracy', accuracy_score(y_test, y_pred))\n",
        "print('precision', precision_score(y_test, y_pred))\n",
        "print('recall', recall_score(y_test, y_pred))"
      ],
      "execution_count": null,
      "outputs": [
        {
          "output_type": "stream",
          "name": "stdout",
          "text": [
            "[[5176 1805]\n",
            " [ 810 1199]]\n",
            "accuracy 0.7091212458286985\n",
            "precision 0.39913448735019974\n",
            "recall 0.5968143354902937\n"
          ]
        }
      ]
    },
    {
      "cell_type": "code",
      "metadata": {
        "colab": {
          "base_uri": "https://localhost:8080/",
          "height": 295
        },
        "id": "XHeG5xDBS7JL",
        "outputId": "909fc810-5890-4013-c3a7-6729f67ab845"
      },
      "source": [
        "# ROC curve, and ROC AUC\n",
        "y_pred_proba = model.predict_proba(X_test_scaled)[::,1] \n",
        "FPR, TPR, _ = roc_curve(y_test, y_pred_proba)            #roc_curve(y_true, y_score)\n",
        "auc = roc_auc_score(y_test, y_pred_proba)\n",
        "plt.plot(FPR,TPR,label=\"ROC AUC=\"+str(auc))\n",
        "plt.xlabel('FPR')\n",
        "plt.ylabel('TPR')\n",
        "plt.title('ROC curve')\n",
        "plt.legend(loc=4)  \n",
        "plt.show()"
      ],
      "execution_count": null,
      "outputs": [
        {
          "output_type": "display_data",
          "data": {
            "image/png": "[encoded data removed]",
            "text/plain": [
              "<Figure size 432x288 with 1 Axes>"
            ]
          },
          "metadata": {
            "needs_background": "light"
          }
        }
      ]
    },
    {
      "cell_type": "markdown",
      "metadata": {
        "id": "3YWzgV-qHJdt"
      },
      "source": [
        "#### Feature selection: Use top-3 features"
      ]
    },
    {
      "cell_type": "code",
      "metadata": {
        "id": "rpp9IrDmHFSY"
      },
      "source": [
        "# looking at Pearson correlations with the dependent variable, and XGBoost feature importance 3 features always come up:\n",
        "df_selected2 = df[['LIMIT_BAL','Repay_Sept', 'Pay_Sept','Default' ]]"
      ],
      "execution_count": null,
      "outputs": []
    },
    {
      "cell_type": "code",
      "metadata": {
        "id": "qy33HeCgH-LI"
      },
      "source": [
        "#Seperate the independent and dependent variables.\n",
        "df_independent = df_selected2.drop(['Default'], axis=1)\n",
        "df_default = df_selected2['Default']"
      ],
      "execution_count": null,
      "outputs": []
    },
    {
      "cell_type": "code",
      "metadata": {
        "id": "FD_jl4DXIFXf"
      },
      "source": [
        "# split the data into 70% training + 30% test\n",
        "X_train, X_test, y_train, y_test = train_test_split(df_independent, df_default, test_size=0.30, random_state=1) "
      ],
      "execution_count": null,
      "outputs": []
    },
    {
      "cell_type": "code",
      "metadata": {
        "id": "TjZoyoKFIKpd"
      },
      "source": [
        "# Scale input variables for training\n",
        "X_train_scaled = preprocessing.MinMaxScaler().fit_transform(X_train)"
      ],
      "execution_count": null,
      "outputs": []
    },
    {
      "cell_type": "code",
      "metadata": {
        "colab": {
          "base_uri": "https://localhost:8080/"
        },
        "id": "I_UujP2iIPLu",
        "outputId": "54bec8a9-6c76-4cc0-cb26-29cb54ac2411"
      },
      "source": [
        "# Balancing the training data using SMOTE Tomek\n",
        "X_smt, y_smt = SMOTETomek(random_state=1).fit_sample(X_train_scaled, y_train.squeeze())"
      ],
      "execution_count": null,
      "outputs": [
        {
          "output_type": "stream",
          "name": "stderr",
          "text": [
            "/usr/local/lib/python3.7/dist-packages/sklearn/utils/deprecation.py:87: FutureWarning: Function safe_indexing is deprecated; safe_indexing is deprecated in version 0.22 and will be removed in version 0.24.\n",
            "  warnings.warn(msg, category=FutureWarning)\n",
            "/usr/local/lib/python3.7/dist-packages/sklearn/utils/deprecation.py:87: FutureWarning: Function safe_indexing is deprecated; safe_indexing is deprecated in version 0.22 and will be removed in version 0.24.\n",
            "  warnings.warn(msg, category=FutureWarning)\n"
          ]
        }
      ]
    },
    {
      "cell_type": "code",
      "metadata": {
        "id": "-ggS6SOnIT1r"
      },
      "source": [
        "# create model\n",
        "model = LogisticRegression(random_state=1, C= 0.5, penalty = 'l2', solver= 'newton-cg')   #optimized parameters from GridSearchCV\n",
        "# Fit the model\n",
        "model.fit(X_smt, y_smt)\n",
        "# Predict using the scaled X_test\n",
        "X_test_scaled = preprocessing.MinMaxScaler().fit_transform(X_test)\n",
        "y_pred = model.predict(X_test_scaled)"
      ],
      "execution_count": null,
      "outputs": []
    },
    {
      "cell_type": "code",
      "metadata": {
        "colab": {
          "base_uri": "https://localhost:8080/"
        },
        "id": "OyJGzwsoIaOz",
        "outputId": "1e9eab99-39e5-4029-e056-09bc440c681b"
      },
      "source": [
        "# performance metrics\n",
        "cm = confusion_matrix(y_test, y_pred)\n",
        "print(cm)\n",
        "print('accuracy', accuracy_score(y_test, y_pred))\n",
        "print('precision', precision_score(y_test, y_pred))\n",
        "print('recall', recall_score(y_test, y_pred))\n",
        "# Insight: can see the performance with these top 3 features is the same as top 5 features"
      ],
      "execution_count": null,
      "outputs": [
        {
          "output_type": "stream",
          "name": "stdout",
          "text": [
            "[[5258 1723]\n",
            " [ 841 1168]]\n",
            "accuracy 0.7147942157953281\n",
            "precision 0.40401245243860257\n",
            "recall 0.5813837730214036\n"
          ]
        }
      ]
    },
    {
      "cell_type": "code",
      "metadata": {
        "colab": {
          "base_uri": "https://localhost:8080/",
          "height": 295
        },
        "id": "R6HskjlMItYL",
        "outputId": "bf217536-b96a-4c25-9f0d-83fc5cbe0ded"
      },
      "source": [
        "# ROC curve, and ROC AUC\n",
        "y_pred_proba = model.predict_proba(X_test_scaled)[::,1] \n",
        "FPR, TPR, _ = roc_curve(y_test, y_pred_proba)            #roc_curve(y_true, y_score)\n",
        "auc = roc_auc_score(y_test, y_pred_proba)\n",
        "plt.plot(FPR,TPR,label=\"ROC AUC=\"+str(auc))\n",
        "plt.xlabel('FPR')\n",
        "plt.ylabel('TPR')\n",
        "plt.title('ROC curve')\n",
        "plt.legend(loc=4)  \n",
        "plt.show()"
      ],
      "execution_count": null,
      "outputs": [
        {
          "output_type": "display_data",
          "data": {
            "image/png": "[encoded data removed]",
            "text/plain": [
              "<Figure size 432x288 with 1 Axes>"
            ]
          },
          "metadata": {
            "needs_background": "light"
          }
        }
      ]
    }
  ]
}