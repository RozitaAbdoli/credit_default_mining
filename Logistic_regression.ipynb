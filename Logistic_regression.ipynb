{
  "nbformat": 4,
  "nbformat_minor": 0,
  "metadata": {
    "colab": {
      "name": "Logistic_regression",
      "provenance": [],
      "collapsed_sections": [],
      "authorship_tag": "ABX9TyMLTU1OYPNy8PX9qJsyNKDN",
      "include_colab_link": true
    },
    "kernelspec": {
      "display_name": "Python 3",
      "name": "python3"
    },
    "language_info": {
      "name": "python"
    }
  },
  "cells": [
    {
      "cell_type": "markdown",
      "metadata": {
        "id": "view-in-github",
        "colab_type": "text"
      },
      "source": [
        "<a href=\"https://colab.research.google.com/github/RozitaAbdoli/credit_default_mining/blob/main/Logistic_regression.ipynb\" target=\"_parent\"><img src=\"https://colab.research.google.com/assets/colab-badge.svg\" alt=\"Open In Colab\"/></a>"
      ]
    },
    {
      "cell_type": "markdown",
      "metadata": {
        "id": "ee4umu97Z645"
      },
      "source": [
        "In this notebook:\n",
        "* Hyper-parameter tuning for LR using Grid Search cross validation\n",
        "* Applying elastic net regularization (LASSO+Rigde) with 'saga' solver\n",
        "* Running Logistic Regression with selected features from XGBooster algorithm\n",
        "* It should be considered that linear regression assumes input data has a linear relation with the target, there are no outliers, no collinearity, normal distribution, and since it's a distance-based algorithm, predictors should be scaled."
      ]
    },
    {
      "cell_type": "code",
      "metadata": {
        "id": "-kKQoSIMr0OM",
        "colab": {
          "base_uri": "https://localhost:8080/"
        },
        "outputId": "80860064-4fef-413d-9a91-3798b1aa31b1"
      },
      "source": [
        "import pandas as pd\n",
        "import numpy as np\n",
        "import seaborn as sns\n",
        "import matplotlib.pyplot as plt\n",
        "\n",
        "from sklearn.model_selection import train_test_split\n",
        "from sklearn.linear_model import LogisticRegression\n",
        "from sklearn.metrics import confusion_matrix, accuracy_score, precision_score, recall_score, roc_curve, roc_auc_score\n",
        "from sklearn import preprocessing\n",
        "\n",
        "from imblearn.combine import SMOTETomek \n",
        "\n",
        "from sklearn.model_selection import GridSearchCV\n",
        "from sklearn.model_selection import RepeatedKFold\n",
        "from sklearn.model_selection import cross_val_score\n",
        "from numpy import mean\n",
        "from numpy import std"
      ],
      "execution_count": 1,
      "outputs": [
        {
          "output_type": "stream",
          "name": "stderr",
          "text": [
            "/usr/local/lib/python3.7/dist-packages/sklearn/externals/six.py:31: FutureWarning: The module is deprecated in version 0.21 and will be removed in version 0.23 since we've dropped support for Python 2.7. Please rely on the official version of six (https://pypi.org/project/six/).\n",
            "  \"(https://pypi.org/project/six/).\", FutureWarning)\n",
            "/usr/local/lib/python3.7/dist-packages/sklearn/utils/deprecation.py:144: FutureWarning: The sklearn.neighbors.base module is  deprecated in version 0.22 and will be removed in version 0.24. The corresponding classes / functions should instead be imported from sklearn.neighbors. Anything that cannot be imported from sklearn.neighbors is now part of the private API.\n",
            "  warnings.warn(message, FutureWarning)\n"
          ]
        }
      ]
    },
    {
      "cell_type": "code",
      "metadata": {
        "colab": {
          "base_uri": "https://localhost:8080/"
        },
        "id": "TJyXv-5cX7Nr",
        "outputId": "b241bd7c-2b66-4519-9caa-3ba4b50988de"
      },
      "source": [
        "#Import Drive API and authenticate\n",
        "from google.colab import drive\n",
        "#Mount Drive to the Colab VM\n",
        "drive.mount('/content/drive')"
      ],
      "execution_count": 2,
      "outputs": [
        {
          "output_type": "stream",
          "name": "stdout",
          "text": [
            "Mounted at /content/drive\n"
          ]
        }
      ]
    },
    {
      "cell_type": "code",
      "metadata": {
        "id": "Kx4h0qZs5jqT"
      },
      "source": [
        "#Load the dataset into pandas DataFrame\n",
        "df = pd.read_csv(\"/content/drive/MyDrive/Capstone_project/v2_credit_default.csv\")"
      ],
      "execution_count": 3,
      "outputs": []
    },
    {
      "cell_type": "code",
      "metadata": {
        "id": "OLEIVF9_JVeW"
      },
      "source": [
        "#Seperate the independent and dependent variables.\n",
        "df_independent = df.drop(['Default'], axis=1)\n",
        "df_default = df['Default']"
      ],
      "execution_count": 4,
      "outputs": []
    },
    {
      "cell_type": "code",
      "metadata": {
        "id": "oqNu2ax6JfQN"
      },
      "source": [
        "# split the data into 80% training+validation and 20% test\n",
        "X_train, X_test, y_train, y_test = train_test_split(df_independent, df_default, test_size=0.20, random_state=1) "
      ],
      "execution_count": 5,
      "outputs": []
    },
    {
      "cell_type": "code",
      "metadata": {
        "colab": {
          "base_uri": "https://localhost:8080/",
          "height": 330
        },
        "id": "r1u3eF62KNQX",
        "outputId": "f3cfd2f9-16b9-466a-d2b7-7cd3d28de79b"
      },
      "source": [
        "#Make sure the distribution of the dependent variable is the same in both training+validation and test sets.\n",
        "y_train.value_counts().plot(kind='bar', title='Class distribution: Training + validation data');\n",
        "y_train.value_counts()    #22% defaulters in the training+validation data"
      ],
      "execution_count": 6,
      "outputs": [
        {
          "output_type": "execute_result",
          "data": {
            "text/plain": [
              "0    18670\n",
              "1     5302\n",
              "Name: Default, dtype: int64"
            ]
          },
          "metadata": {},
          "execution_count": 6
        },
        {
          "output_type": "display_data",
          "data": {
            "image/png": "[encoded data removed]",
            "text/plain": [
              "<Figure size 432x288 with 1 Axes>"
            ]
          },
          "metadata": {
            "needs_background": "light"
          }
        }
      ]
    },
    {
      "cell_type": "code",
      "metadata": {
        "colab": {
          "base_uri": "https://localhost:8080/",
          "height": 330
        },
        "id": "jDO0EVe-Kpmn",
        "outputId": "482f443c-b90d-4730-975f-8aeb54cc72b1"
      },
      "source": [
        "# Test data\n",
        "y_test.value_counts().plot(kind='bar', title='Class distribution: Test data')\n",
        "y_test.value_counts() #22% defaulters in the test data"
      ],
      "execution_count": 7,
      "outputs": [
        {
          "output_type": "execute_result",
          "data": {
            "text/plain": [
              "0    4665\n",
              "1    1328\n",
              "Name: Default, dtype: int64"
            ]
          },
          "metadata": {},
          "execution_count": 7
        },
        {
          "output_type": "display_data",
          "data": {
            "image/png": "[encoded data removed]",
            "text/plain": [
              "<Figure size 432x288 with 1 Axes>"
            ]
          },
          "metadata": {
            "needs_background": "light"
          }
        }
      ]
    },
    {
      "cell_type": "code",
      "metadata": {
        "id": "o1CRbftjKyzb"
      },
      "source": [
        "# Scale input variables for training+validation (X_train)\n",
        "X_train_scaled = preprocessing.MinMaxScaler().fit_transform(X_train)"
      ],
      "execution_count": 8,
      "outputs": []
    },
    {
      "cell_type": "code",
      "metadata": {
        "colab": {
          "base_uri": "https://localhost:8080/"
        },
        "id": "iF0ePpG4LobB",
        "outputId": "e638e02d-8c1c-4f25-af0f-e8d587d2b4fb"
      },
      "source": [
        "# Balancing using SMOTE Tomek\n",
        "X_smt, y_smt = SMOTETomek(random_state=1).fit_sample(X_train_scaled, y_train.squeeze())"
      ],
      "execution_count": 9,
      "outputs": [
        {
          "output_type": "stream",
          "name": "stderr",
          "text": [
            "/usr/local/lib/python3.7/dist-packages/sklearn/utils/deprecation.py:87: FutureWarning: Function safe_indexing is deprecated; safe_indexing is deprecated in version 0.22 and will be removed in version 0.24.\n",
            "  warnings.warn(msg, category=FutureWarning)\n",
            "/usr/local/lib/python3.7/dist-packages/sklearn/utils/deprecation.py:87: FutureWarning: Function safe_indexing is deprecated; safe_indexing is deprecated in version 0.22 and will be removed in version 0.24.\n",
            "  warnings.warn(msg, category=FutureWarning)\n"
          ]
        }
      ]
    },
    {
      "cell_type": "code",
      "metadata": {
        "id": "qIz5QO1KOXUc"
      },
      "source": [
        "# #hyperparameter adjustment with GridSearchCV\n",
        "# #NOTE 1: The 'newton-cg', 'sag', and 'lbfgs' solvers support only L2 regularization or no regularization. The 'liblinear' solver supports both L1 and L2 regularization.\n",
        "# #NOTE 2: After running this block of code, the results are recorded (last 2 lines of code), and this section is commented to speed up future runs of the notebook where other sections are being updated.\n",
        "# model = LogisticRegression(random_state=1)\n",
        "\n",
        "# solver_options = ['newton-cg', 'lbfgs', 'liblinear', 'sag']\n",
        "# penalty_options = ['l1','l2']\n",
        "# C_options = [0.1, 0.5, 1, 5, 10, 50, 100]\n",
        "\n",
        "# param_grid = dict(solver = solver_options, penalty = penalty_options, C = C_options)\n",
        "# grid = GridSearchCV(model, param_grid, cv=10, scoring = 'f1')\n",
        "# grid.fit(X_smt,y_smt)\n",
        "# print (grid.best_params_) # {'C': 50, 'penalty': 'l1', 'solver': 'liblinear'}\n",
        "# print (grid.best_score_) # output: 0.676"
      ],
      "execution_count": 10,
      "outputs": []
    },
    {
      "cell_type": "code",
      "metadata": {
        "colab": {
          "base_uri": "https://localhost:8080/",
          "height": 365
        },
        "id": "rcnBsIsrvl8Z",
        "outputId": "ed197070-4b4b-4073-a239-8049fa3b1362"
      },
      "source": [
        "# Configure the ideal value of K for K-fold cross-validation\n",
        "# Conclusion: Adding more folds does not seem to affect the performance metric. Use k=10, which is the most commonly used value in literature.\n",
        "from sklearn.model_selection import KFold\n",
        "from matplotlib import pyplot\n",
        "\n",
        "X = df.drop(['Default'], axis=1)\n",
        "y = df['Default']\n",
        "\n",
        "model = LogisticRegression(random_state=1, C= 50, penalty= 'l1', solver= 'liblinear')\n",
        " \n",
        "# evaluate the model using a given test condition\n",
        "def evaluate_model(cv):\n",
        "\tscores = cross_val_score(model, X, y, scoring='roc_auc', cv=cv)    # also tested it for accuracy and f1\n",
        "\treturn mean(scores), scores.min(), scores.max()\n",
        "\n",
        "# define folds to test\n",
        "folds = [3, 5, 10, 15, 20]\n",
        "# record mean and min/max of each set of results\n",
        "means, mins, maxs = list(),list(),list()\n",
        "\n",
        "# evaluate each k value\n",
        "for k in folds:\n",
        "\t# define the test condition\n",
        "\tcv = KFold(n_splits=k, shuffle=True, random_state=1)\n",
        "\t# evaluate k value\n",
        "\tk_mean, k_min, k_max = evaluate_model(cv)\n",
        "\t# report performance\n",
        "\tprint('> folds=%d, ROC_AUC=%.3f (%.3f,%.3f)' % (k, k_mean, k_min, k_max))\n",
        "\tmeans.append(k_mean)\n",
        "\tmins.append(k_mean - k_min)\n",
        "\tmaxs.append(k_max - k_mean)\n",
        " \n",
        "# line plot of k mean values with min/max error bars\n",
        "fig, ax = plt.subplots()\n",
        "\n",
        "pyplot.errorbar(folds, means, yerr=[mins, maxs], fmt='o')\n",
        "plt.xlabel('Folds')\n",
        "plt.ylabel('ROC_AUC')\n",
        "ticks = [3,5,10,15,20]\n",
        "ax.set_xticks(ticks)\n",
        "\n",
        "pyplot.show()"
      ],
      "execution_count": null,
      "outputs": [
        {
          "output_type": "stream",
          "name": "stdout",
          "text": [
            "> folds=3, ROC_AUC=0.722 (0.714,0.730)\n",
            "> folds=5, ROC_AUC=0.723 (0.711,0.734)\n",
            "> folds=10, ROC_AUC=0.723 (0.699,0.739)\n",
            "> folds=15, ROC_AUC=0.723 (0.695,0.752)\n",
            "> folds=20, ROC_AUC=0.723 (0.683,0.761)\n"
          ]
        },
        {
          "output_type": "display_data",
          "data": {
            "image/png": "[encoded data removed]",
            "text/plain": [
              "<Figure size 432x288 with 1 Axes>"
            ]
          },
          "metadata": {
            "needs_background": "light"
          }
        }
      ]
    },
    {
      "cell_type": "code",
      "metadata": {
        "colab": {
          "base_uri": "https://localhost:8080/"
        },
        "id": "SpPvu9_LTqGk",
        "outputId": "e7c6f87f-ec83-43ff-88aa-ec8442353d64"
      },
      "source": [
        "# Cross_validation using the optimized hyperparameters\n",
        "cv = RepeatedKFold(n_splits=10, n_repeats=5, random_state=1)    #5 repeats of k=10-fold\n",
        "# create model\n",
        "model = LogisticRegression(random_state=1, C= 50, penalty= 'l1', solver= 'liblinear')\n",
        "# evaluate model\n",
        "scores = cross_val_score(model, X_smt, y_smt, scoring='f1', cv=cv, n_jobs=-1)   # will have 50 scores (5 iterations x 10-folds)\n",
        "# report performance\n",
        "print('f1_score: %.3f (%.3f)' % (mean(scores), std(scores)))"
      ],
      "execution_count": 11,
      "outputs": [
        {
          "output_type": "stream",
          "name": "stdout",
          "text": [
            "f1_score: 0.676 (0.010)\n"
          ]
        }
      ]
    },
    {
      "cell_type": "code",
      "metadata": {
        "id": "2N5ALv9IDIn9"
      },
      "source": [
        "# # #hyperparameter optimization with GridSearchCV for 'elasticnet' penalty with 'saga' solver\n",
        "\n",
        "# model = LogisticRegression(random_state=1)\n",
        "\n",
        "# solver_options = ['saga']\n",
        "# penalty_options = ['elasticnet']\n",
        "# l1_ratio_options = [0.1, .03, 0.5, 0.7, 0.9]\n",
        "# C_options = [0.1, 0.5, 1, 5, 10, 50, 100]\n",
        "\n",
        "# param_grid = dict(solver = solver_options, penalty = penalty_options,l1_ratio = l1_ratio_options, C = C_options)\n",
        "# grid = GridSearchCV(model, param_grid, cv=10, scoring = 'f1')\n",
        "# grid.fit(X_smt,y_smt)\n",
        "# print (grid.best_params_) #{'C': 0.1, 'l1_ratio': 0.03, 'penalty': 'elasticnet', 'solver': 'saga'}\n",
        "# print (grid.best_score_)  #0.6914246260933862"
      ],
      "execution_count": 12,
      "outputs": []
    },
    {
      "cell_type": "code",
      "metadata": {
        "id": "mmzj8B3EUq2L",
        "colab": {
          "base_uri": "https://localhost:8080/"
        },
        "outputId": "d2a8a782-e78d-4248-9a9d-eb6cb418a532"
      },
      "source": [
        "# Now also try elasticnet penalty with saga solver\n",
        "# Can also use GridSearchCV  to find the optimal l1_ratio and C for elastic net + saga\n",
        "cv = RepeatedKFold(n_splits=10, n_repeats=5, random_state=1)    #5 repeats of k=10-fold\n",
        "# create model\n",
        "model = LogisticRegression(random_state=1, C= 0.1, l1_ratio= 0.03, penalty= 'elasticnet', solver= 'saga')\n",
        "# evaluate model\n",
        "scores = cross_val_score(model, X_smt, y_smt, scoring='accuracy', cv=cv, n_jobs=-1)   # will have 50 scores (5 iterations x 10-folds)\n",
        "# report performance\n",
        "print('Accuracy: %.3f (%.3f)' % (mean(scores), std(scores)))"
      ],
      "execution_count": 13,
      "outputs": [
        {
          "output_type": "stream",
          "name": "stdout",
          "text": [
            "Accuracy: 0.685 (0.008)\n"
          ]
        }
      ]
    },
    {
      "cell_type": "code",
      "metadata": {
        "id": "RLiGHs0OWAzp"
      },
      "source": [
        "#Finally test with the test set (X_test):\n",
        "# Fit the model\n",
        "model.fit(X_smt, y_smt)\n",
        "# Predict using the X_test\n",
        "X_test_scaled = preprocessing.MinMaxScaler().fit_transform(X_test)\n",
        "y_pred = model.predict(X_test_scaled)"
      ],
      "execution_count": 14,
      "outputs": []
    },
    {
      "cell_type": "code",
      "metadata": {
        "id": "RS2_YSgbYg94",
        "colab": {
          "base_uri": "https://localhost:8080/"
        },
        "outputId": "bac4525e-84df-4094-baa5-4731a143f615"
      },
      "source": [
        "# performance metrics\n",
        "cm = confusion_matrix(y_test, y_pred)\n",
        "print(cm)\n",
        "print('accuracy', accuracy_score(y_test, y_pred))\n",
        "print('precision', precision_score(y_test, y_pred))\n",
        "print('recall', recall_score(y_test, y_pred))"
      ],
      "execution_count": 15,
      "outputs": [
        {
          "output_type": "stream",
          "name": "stdout",
          "text": [
            "[[4065  600]\n",
            " [ 709  619]]\n",
            "accuracy 0.7815785082596363\n",
            "precision 0.5077932731747334\n",
            "recall 0.4661144578313253\n"
          ]
        }
      ]
    },
    {
      "cell_type": "code",
      "metadata": {
        "id": "0DQvICMnZdSI",
        "colab": {
          "base_uri": "https://localhost:8080/",
          "height": 295
        },
        "outputId": "afac772e-84af-44db-80ef-72caeb6aa3aa"
      },
      "source": [
        "# ROC curve, and ROC AUC\n",
        "y_pred_proba = model.predict_proba(X_test_scaled)[::,1] \n",
        "FPR, TPR, _ = roc_curve(y_test, y_pred_proba)            #roc_curve(y_true, y_score)\n",
        "auc = roc_auc_score(y_test, y_pred_proba)\n",
        "plt.plot(FPR,TPR,label=\"ROC AUC=\"+str(auc))\n",
        "plt.xlabel('FPR')\n",
        "plt.ylabel('TPR')\n",
        "plt.title('ROC curve')\n",
        "plt.legend(loc=4)  \n",
        "plt.show()"
      ],
      "execution_count": 16,
      "outputs": [
        {
          "output_type": "display_data",
          "data": {
            "image/png": "[encoded data removed]",
            "text/plain": [
              "<Figure size 432x288 with 1 Axes>"
            ]
          },
          "metadata": {
            "needs_background": "light"
          }
        }
      ]
    },
    {
      "cell_type": "markdown",
      "metadata": {
        "id": "RsGWCn7uEJ9V"
      },
      "source": [
        "### Now run LR with selected features from XGBoost"
      ]
    },
    {
      "cell_type": "code",
      "metadata": {
        "id": "xoEF4UDVEJEe"
      },
      "source": [
        "#In XGBoost feature importance, top 5 features appeared in the top-10 list for both weight and gain. These features are selected here.\n",
        "df_selected = df[['AGE', 'LIMIT_BAL', 'Pay_Apr', 'Repay_Sept', 'Pay_Sept','Default' ]]"
      ],
      "execution_count": 17,
      "outputs": []
    },
    {
      "cell_type": "code",
      "metadata": {
        "id": "zHY-cjEfRJRv"
      },
      "source": [
        "#Seperate the independent and dependent variables.\n",
        "df_independent = df_selected.drop(['Default'], axis=1)\n",
        "df_default = df_selected['Default']"
      ],
      "execution_count": 18,
      "outputs": []
    },
    {
      "cell_type": "code",
      "metadata": {
        "id": "bTUP5eEkHTK8",
        "colab": {
          "base_uri": "https://localhost:8080/",
          "height": 270
        },
        "outputId": "a9f0d5ff-f012-43a3-b953-6817341823f9"
      },
      "source": [
        "corr_matrix = df_independent.corr()\n",
        "sns.heatmap(corr_matrix, annot=True);\n",
        "# there is some correlation. But not a very strong correlation close to +1 or -1."
      ],
      "execution_count": 19,
      "outputs": [
        {
          "output_type": "display_data",
          "data": {
            "image/png": "[encoded data removed]",
            "text/plain": [
              "<Figure size 432x288 with 2 Axes>"
            ]
          },
          "metadata": {
            "needs_background": "light"
          }
        }
      ]
    },
    {
      "cell_type": "code",
      "metadata": {
        "id": "Vdr3j4PSRgGi"
      },
      "source": [
        "# split the data into 70% training + 30% test\n",
        "X_train, X_test, y_train, y_test = train_test_split(df_independent, df_default, test_size=0.30, random_state=1) "
      ],
      "execution_count": 20,
      "outputs": []
    },
    {
      "cell_type": "code",
      "metadata": {
        "id": "hXBF-0pdRulz"
      },
      "source": [
        "# Scale input variables for training\n",
        "X_train_scaled = preprocessing.MinMaxScaler().fit_transform(X_train)"
      ],
      "execution_count": 21,
      "outputs": []
    },
    {
      "cell_type": "code",
      "metadata": {
        "id": "e-B-ABb-R_Fu",
        "colab": {
          "base_uri": "https://localhost:8080/"
        },
        "outputId": "afd419fc-9de1-46e6-cae0-1525e992671e"
      },
      "source": [
        "# Balancing the training data using SMOTE Tomek\n",
        "X_smt, y_smt = SMOTETomek(random_state=1).fit_sample(X_train_scaled, y_train.squeeze())"
      ],
      "execution_count": 22,
      "outputs": [
        {
          "output_type": "stream",
          "name": "stderr",
          "text": [
            "/usr/local/lib/python3.7/dist-packages/sklearn/utils/deprecation.py:87: FutureWarning: Function safe_indexing is deprecated; safe_indexing is deprecated in version 0.22 and will be removed in version 0.24.\n",
            "  warnings.warn(msg, category=FutureWarning)\n",
            "/usr/local/lib/python3.7/dist-packages/sklearn/utils/deprecation.py:87: FutureWarning: Function safe_indexing is deprecated; safe_indexing is deprecated in version 0.22 and will be removed in version 0.24.\n",
            "  warnings.warn(msg, category=FutureWarning)\n"
          ]
        }
      ]
    },
    {
      "cell_type": "code",
      "metadata": {
        "id": "Cf5rjVT4SS2m"
      },
      "source": [
        "# create model\n",
        "model = LogisticRegression(random_state=1, C= 50, penalty= 'l1', solver= 'liblinear')   #optimized parameters from GridSearchCV\n",
        "# Fit the model\n",
        "model.fit(X_smt, y_smt)\n",
        "# Predict using the X_test\n",
        "X_test_scaled = preprocessing.MinMaxScaler().fit_transform(X_test)\n",
        "y_pred = model.predict(X_test_scaled)"
      ],
      "execution_count": 23,
      "outputs": []
    },
    {
      "cell_type": "code",
      "metadata": {
        "id": "B43hEphESlrH",
        "colab": {
          "base_uri": "https://localhost:8080/"
        },
        "outputId": "8b1b3428-331d-4c9a-8b8f-b5442feb954e"
      },
      "source": [
        "# performance metrics\n",
        "cm = confusion_matrix(y_test, y_pred)\n",
        "print(cm)\n",
        "print('accuracy', accuracy_score(y_test, y_pred))\n",
        "print('precision', precision_score(y_test, y_pred))\n",
        "print('recall', recall_score(y_test, y_pred))"
      ],
      "execution_count": 24,
      "outputs": [
        {
          "output_type": "stream",
          "name": "stdout",
          "text": [
            "[[5271 1710]\n",
            " [ 829 1180]]\n",
            "accuracy 0.7175750834260289\n",
            "precision 0.4083044982698962\n",
            "recall 0.587356893977103\n"
          ]
        }
      ]
    },
    {
      "cell_type": "code",
      "metadata": {
        "id": "XHeG5xDBS7JL",
        "colab": {
          "base_uri": "https://localhost:8080/",
          "height": 295
        },
        "outputId": "0cca66ff-f423-4a67-c910-e0df4cc058a4"
      },
      "source": [
        "# ROC curve, and ROC AUC\n",
        "y_pred_proba = model.predict_proba(X_test_scaled)[::,1] \n",
        "FPR, TPR, _ = roc_curve(y_test, y_pred_proba)            #roc_curve(y_true, y_score)\n",
        "auc = roc_auc_score(y_test, y_pred_proba)\n",
        "plt.plot(FPR,TPR,label=\"ROC AUC=\"+str(auc))\n",
        "plt.xlabel('FPR')\n",
        "plt.ylabel('TPR')\n",
        "plt.title('ROC curve')\n",
        "plt.legend(loc=4)  \n",
        "plt.show()"
      ],
      "execution_count": 25,
      "outputs": [
        {
          "output_type": "display_data",
          "data": {
            "image/png": "[encoded data removed]",
            "text/plain": [
              "<Figure size 432x288 with 1 Axes>"
            ]
          },
          "metadata": {
            "needs_background": "light"
          }
        }
      ]
    },
    {
      "cell_type": "markdown",
      "metadata": {
        "id": "3YWzgV-qHJdt"
      },
      "source": [
        "#### Feature selection: Use top-3 features"
      ]
    },
    {
      "cell_type": "code",
      "metadata": {
        "id": "rpp9IrDmHFSY"
      },
      "source": [
        "# looking at Pearson correlations with the dependent variable, and XGBoost feature importance 3 predictors always come up:\n",
        "df_selected2 = df[['LIMIT_BAL','Repay_Sept', 'Pay_Sept','Default' ]]"
      ],
      "execution_count": 26,
      "outputs": []
    },
    {
      "cell_type": "code",
      "metadata": {
        "id": "qy33HeCgH-LI"
      },
      "source": [
        "#Seperate the independent and dependent variables.\n",
        "df_independent = df_selected2.drop(['Default'], axis=1)\n",
        "df_default = df_selected2['Default']"
      ],
      "execution_count": 27,
      "outputs": []
    },
    {
      "cell_type": "code",
      "metadata": {
        "id": "FD_jl4DXIFXf"
      },
      "source": [
        "# split the data into 70% training + 30% test\n",
        "X_train, X_test, y_train, y_test = train_test_split(df_independent, df_default, test_size=0.30, random_state=1) "
      ],
      "execution_count": 28,
      "outputs": []
    },
    {
      "cell_type": "code",
      "metadata": {
        "id": "TjZoyoKFIKpd"
      },
      "source": [
        "# Scale input variables for training\n",
        "X_train_scaled = preprocessing.MinMaxScaler().fit_transform(X_train)"
      ],
      "execution_count": 29,
      "outputs": []
    },
    {
      "cell_type": "code",
      "metadata": {
        "id": "I_UujP2iIPLu",
        "colab": {
          "base_uri": "https://localhost:8080/"
        },
        "outputId": "95622bf5-446d-422a-c752-9005569a713e"
      },
      "source": [
        "# Balancing the training data using SMOTE Tomek\n",
        "X_smt, y_smt = SMOTETomek(random_state=1).fit_sample(X_train_scaled, y_train.squeeze())"
      ],
      "execution_count": 30,
      "outputs": [
        {
          "output_type": "stream",
          "name": "stderr",
          "text": [
            "/usr/local/lib/python3.7/dist-packages/sklearn/utils/deprecation.py:87: FutureWarning: Function safe_indexing is deprecated; safe_indexing is deprecated in version 0.22 and will be removed in version 0.24.\n",
            "  warnings.warn(msg, category=FutureWarning)\n",
            "/usr/local/lib/python3.7/dist-packages/sklearn/utils/deprecation.py:87: FutureWarning: Function safe_indexing is deprecated; safe_indexing is deprecated in version 0.22 and will be removed in version 0.24.\n",
            "  warnings.warn(msg, category=FutureWarning)\n"
          ]
        }
      ]
    },
    {
      "cell_type": "code",
      "metadata": {
        "id": "-ggS6SOnIT1r"
      },
      "source": [
        "# create model\n",
        "model = LogisticRegression(random_state=1, C= 50, penalty= 'l1', solver= 'liblinear')   #optimized parameters from GridSearchCV\n",
        "# Fit the model\n",
        "model.fit(X_smt, y_smt)\n",
        "# Predict using the X_test\n",
        "X_test_scaled = preprocessing.MinMaxScaler().fit_transform(X_test)\n",
        "y_pred = model.predict(X_test_scaled)"
      ],
      "execution_count": 31,
      "outputs": []
    },
    {
      "cell_type": "code",
      "metadata": {
        "id": "OyJGzwsoIaOz",
        "colab": {
          "base_uri": "https://localhost:8080/"
        },
        "outputId": "c618e05b-f6ba-4096-8c8f-b92de47e1c20"
      },
      "source": [
        "# performance metrics\n",
        "cm = confusion_matrix(y_test, y_pred)\n",
        "print(cm)\n",
        "print('accuracy', accuracy_score(y_test, y_pred))\n",
        "print('precision', precision_score(y_test, y_pred))\n",
        "print('recall', recall_score(y_test, y_pred))\n",
        "# Insight: can see the performance with these top 3 features is the same as top 5 features"
      ],
      "execution_count": 32,
      "outputs": [
        {
          "output_type": "stream",
          "name": "stdout",
          "text": [
            "[[5490 1491]\n",
            " [ 873 1136]]\n",
            "accuracy 0.7370411568409344\n",
            "precision 0.43243243243243246\n",
            "recall 0.565455450472872\n"
          ]
        }
      ]
    },
    {
      "cell_type": "code",
      "metadata": {
        "id": "R6HskjlMItYL",
        "colab": {
          "base_uri": "https://localhost:8080/",
          "height": 295
        },
        "outputId": "3ccd0ea8-7f25-40a8-b41a-d702add64031"
      },
      "source": [
        "# ROC curve, and ROC AUC\n",
        "y_pred_proba = model.predict_proba(X_test_scaled)[::,1] \n",
        "FPR, TPR, _ = roc_curve(y_test, y_pred_proba)            #roc_curve(y_true, y_score)\n",
        "auc = roc_auc_score(y_test, y_pred_proba)\n",
        "plt.plot(FPR,TPR,label=\"ROC AUC=\"+str(auc))\n",
        "plt.xlabel('FPR')\n",
        "plt.ylabel('TPR')\n",
        "plt.title('ROC curve')\n",
        "plt.legend(loc=4)  \n",
        "plt.show()"
      ],
      "execution_count": 33,
      "outputs": [
        {
          "output_type": "display_data",
          "data": {
            "image/png": "[encoded data removed]",
            "text/plain": [
              "<Figure size 432x288 with 1 Axes>"
            ]
          },
          "metadata": {
            "needs_background": "light"
          }
        }
      ]
    }
  ]
}