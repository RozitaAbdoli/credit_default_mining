{
  "nbformat": 4,
  "nbformat_minor": 0,
  "metadata": {
    "colab": {
      "name": "1_dataUnderstanding+dataPrep.ipynb",
      "provenance": [],
      "collapsed_sections": [],
      "authorship_tag": "ABX9TyOrQ1stVZcnBFZvRbvXbySc",
      "include_colab_link": true
    },
    "kernelspec": {
      "display_name": "Python 3",
      "name": "python3"
    },
    "language_info": {
      "name": "python"
    }
  },
  "cells": [
    {
      "cell_type": "markdown",
      "metadata": {
        "id": "view-in-github",
        "colab_type": "text"
      },
      "source": [
        "<a href=\"https://colab.research.google.com/github/RozitaAbdoli/credit_default_mining/blob/main/1_dataUnderstanding%2BdataPrep.ipynb\" target=\"_parent\"><img src=\"https://colab.research.google.com/assets/colab-badge.svg\" alt=\"Open In Colab\"/></a>"
      ]
    },
    {
      "cell_type": "markdown",
      "metadata": {
        "id": "YV6dmryMzT3o"
      },
      "source": [
        "This notebook will:\n",
        "* Drop irrelevant column(s) from dataset\n",
        "* Rename attributes where needed\n",
        "* Remove duplicate entries\n",
        "* Look at the # of unique entries, attribute data types, and memory usage\n",
        "* Whether there are missing values in the dataset\n",
        "* Look at the dependent variable\n",
        "* Look at the categories in the categorical independent variables (adjusted where needed)\n",
        "* Initial look at the distribution of numeric independent variables\n"
      ]
    },
    {
      "cell_type": "code",
      "metadata": {
        "id": "rqWeb7Wu_eeK"
      },
      "source": [
        "# Import relevant libraries\n",
        "%matplotlib inline\n",
        "import numpy as np\n",
        "import pandas as pd\n",
        "import matplotlib.pyplot as plt\n",
        "import seaborn as sns"
      ],
      "execution_count": 1,
      "outputs": []
    },
    {
      "cell_type": "code",
      "metadata": {
        "colab": {
          "base_uri": "https://localhost:8080/"
        },
        "id": "TJyXv-5cX7Nr",
        "outputId": "acb93622-8635-4e55-8937-abf36e7c28fc"
      },
      "source": [
        "#Import Drive API and authenticate\n",
        "from google.colab import drive\n",
        "#Mount Drive to the Colab VM\n",
        "drive.mount('/content/drive')"
      ],
      "execution_count": 2,
      "outputs": [
        {
          "output_type": "stream",
          "name": "stdout",
          "text": [
            "Mounted at /content/drive\n"
          ]
        }
      ]
    },
    {
      "cell_type": "code",
      "metadata": {
        "id": "1lxNhGxMAUKS"
      },
      "source": [
        "#Load the dataset into pandas DataFrame\n",
        "df = pd.read_excel(\"/content/drive/MyDrive/Capstone_project/credit_default.xls\", sheet_name='Data')"
      ],
      "execution_count": 3,
      "outputs": []
    },
    {
      "cell_type": "code",
      "metadata": {
        "colab": {
          "base_uri": "https://localhost:8080/",
          "height": 216
        },
        "id": "s5k6UkQfWOmV",
        "outputId": "1dd991e9-8b6a-4c14-c786-c294309b57f0"
      },
      "source": [
        "#Take a look at the fist 3 rows\n",
        "df.head(3)"
      ],
      "execution_count": 4,
      "outputs": [
        {
          "output_type": "execute_result",
          "data": {
            "text/html": [
              "<div>\n",
              "<style scoped>\n",
              "    .dataframe tbody tr th:only-of-type {\n",
              "        vertical-align: middle;\n",
              "    }\n",
              "\n",
              "    .dataframe tbody tr th {\n",
              "        vertical-align: top;\n",
              "    }\n",
              "\n",
              "    .dataframe thead th {\n",
              "        text-align: right;\n",
              "    }\n",
              "</style>\n",
              "<table border=\"1\" class=\"dataframe\">\n",
              "  <thead>\n",
              "    <tr style=\"text-align: right;\">\n",
              "      <th></th>\n",
              "      <th>ID</th>\n",
              "      <th>LIMIT_BAL</th>\n",
              "      <th>SEX</th>\n",
              "      <th>EDUCATION</th>\n",
              "      <th>MARRIAGE</th>\n",
              "      <th>AGE</th>\n",
              "      <th>PAY_0</th>\n",
              "      <th>PAY_2</th>\n",
              "      <th>PAY_3</th>\n",
              "      <th>PAY_4</th>\n",
              "      <th>PAY_5</th>\n",
              "      <th>PAY_6</th>\n",
              "      <th>BILL_AMT1</th>\n",
              "      <th>BILL_AMT2</th>\n",
              "      <th>BILL_AMT3</th>\n",
              "      <th>BILL_AMT4</th>\n",
              "      <th>BILL_AMT5</th>\n",
              "      <th>BILL_AMT6</th>\n",
              "      <th>PAY_AMT1</th>\n",
              "      <th>PAY_AMT2</th>\n",
              "      <th>PAY_AMT3</th>\n",
              "      <th>PAY_AMT4</th>\n",
              "      <th>PAY_AMT5</th>\n",
              "      <th>PAY_AMT6</th>\n",
              "      <th>default payment next month</th>\n",
              "    </tr>\n",
              "  </thead>\n",
              "  <tbody>\n",
              "    <tr>\n",
              "      <th>0</th>\n",
              "      <td>1</td>\n",
              "      <td>20000</td>\n",
              "      <td>2</td>\n",
              "      <td>2</td>\n",
              "      <td>1</td>\n",
              "      <td>24</td>\n",
              "      <td>2</td>\n",
              "      <td>2</td>\n",
              "      <td>-1</td>\n",
              "      <td>-1</td>\n",
              "      <td>-2</td>\n",
              "      <td>-2</td>\n",
              "      <td>3913</td>\n",
              "      <td>3102</td>\n",
              "      <td>689</td>\n",
              "      <td>0</td>\n",
              "      <td>0</td>\n",
              "      <td>0</td>\n",
              "      <td>0</td>\n",
              "      <td>689</td>\n",
              "      <td>0</td>\n",
              "      <td>0</td>\n",
              "      <td>0</td>\n",
              "      <td>0</td>\n",
              "      <td>1</td>\n",
              "    </tr>\n",
              "    <tr>\n",
              "      <th>1</th>\n",
              "      <td>2</td>\n",
              "      <td>120000</td>\n",
              "      <td>2</td>\n",
              "      <td>2</td>\n",
              "      <td>2</td>\n",
              "      <td>26</td>\n",
              "      <td>-1</td>\n",
              "      <td>2</td>\n",
              "      <td>0</td>\n",
              "      <td>0</td>\n",
              "      <td>0</td>\n",
              "      <td>2</td>\n",
              "      <td>2682</td>\n",
              "      <td>1725</td>\n",
              "      <td>2682</td>\n",
              "      <td>3272</td>\n",
              "      <td>3455</td>\n",
              "      <td>3261</td>\n",
              "      <td>0</td>\n",
              "      <td>1000</td>\n",
              "      <td>1000</td>\n",
              "      <td>1000</td>\n",
              "      <td>0</td>\n",
              "      <td>2000</td>\n",
              "      <td>1</td>\n",
              "    </tr>\n",
              "    <tr>\n",
              "      <th>2</th>\n",
              "      <td>3</td>\n",
              "      <td>90000</td>\n",
              "      <td>2</td>\n",
              "      <td>2</td>\n",
              "      <td>2</td>\n",
              "      <td>34</td>\n",
              "      <td>0</td>\n",
              "      <td>0</td>\n",
              "      <td>0</td>\n",
              "      <td>0</td>\n",
              "      <td>0</td>\n",
              "      <td>0</td>\n",
              "      <td>29239</td>\n",
              "      <td>14027</td>\n",
              "      <td>13559</td>\n",
              "      <td>14331</td>\n",
              "      <td>14948</td>\n",
              "      <td>15549</td>\n",
              "      <td>1518</td>\n",
              "      <td>1500</td>\n",
              "      <td>1000</td>\n",
              "      <td>1000</td>\n",
              "      <td>1000</td>\n",
              "      <td>5000</td>\n",
              "      <td>0</td>\n",
              "    </tr>\n",
              "  </tbody>\n",
              "</table>\n",
              "</div>"
            ],
            "text/plain": [
              "   ID  LIMIT_BAL  SEX  ...  PAY_AMT5  PAY_AMT6  default payment next month\n",
              "0   1      20000    2  ...         0         0                           1\n",
              "1   2     120000    2  ...         0      2000                           1\n",
              "2   3      90000    2  ...      1000      5000                           0\n",
              "\n",
              "[3 rows x 25 columns]"
            ]
          },
          "metadata": {},
          "execution_count": 4
        }
      ]
    },
    {
      "cell_type": "code",
      "metadata": {
        "id": "C8VXpT9U9HO2"
      },
      "source": [
        "#Remove the ID column as it is unique values and is not going to help for classification\n",
        "df = df.drop('ID', 1)"
      ],
      "execution_count": 5,
      "outputs": []
    },
    {
      "cell_type": "code",
      "metadata": {
        "id": "ABoUC3fF52hF"
      },
      "source": [
        "#Rename \"default payment next month\" column to just \"Default\"\n",
        "df = df.rename(columns={'default payment next month': 'Default'})"
      ],
      "execution_count": 6,
      "outputs": []
    },
    {
      "cell_type": "code",
      "metadata": {
        "id": "Z5c3BBKe-oK5"
      },
      "source": [
        "#Now rename all numbers with the month they correspond to in the column names for better data readability\n",
        "df.rename({'PAY_0':'Repay_Sept','PAY_2':'Repay_Aug','PAY_3':'Repay_July','PAY_4':'Repay_June','PAY_5':'Repay_May','PAY_6':'Repay_Apr'}, axis=1, inplace=True)\n",
        "df.rename({'BILL_AMT1':'Bill_Sept','BILL_AMT2':'Bill_Aug','BILL_AMT3':'Bill_July','BILL_AMT4':'Bill_June','BILL_AMT5':'Bill_May','BILL_AMT6':'Bill_Apr'}, axis=1, inplace=True)\n",
        "df.rename({'PAY_AMT1':'Pay_Sept','PAY_AMT2':'Pay_Aug','PAY_AMT3':'Pay_July','PAY_AMT4':'Pay_June','PAY_AMT5':'Pay_May','PAY_AMT6':'Pay_Apr'}, axis=1, inplace=True)"
      ],
      "execution_count": 7,
      "outputs": []
    },
    {
      "cell_type": "code",
      "metadata": {
        "colab": {
          "base_uri": "https://localhost:8080/"
        },
        "id": "sDHRLqJEFBUn",
        "outputId": "ca5d3895-1727-467a-bf2d-ac0784e1358a"
      },
      "source": [
        "#Check for duplicate rows and remove them\n",
        "print('before removing duplicates' , df.duplicated().sum())\n",
        "df = df[~df.duplicated()]\n",
        "print('after removing', df.duplicated().sum())"
      ],
      "execution_count": 8,
      "outputs": [
        {
          "output_type": "stream",
          "name": "stdout",
          "text": [
            "before removing duplicates 35\n",
            "after removing 0\n"
          ]
        }
      ]
    },
    {
      "cell_type": "code",
      "metadata": {
        "colab": {
          "base_uri": "https://localhost:8080/"
        },
        "id": "JV6eVULmDXA_",
        "outputId": "ff0f0eb8-e8b9-4420-abcb-ef8e0200d711"
      },
      "source": [
        "#Check number of rows and columns now\n",
        "df.shape"
      ],
      "execution_count": 9,
      "outputs": [
        {
          "output_type": "execute_result",
          "data": {
            "text/plain": [
              "(29965, 24)"
            ]
          },
          "metadata": {},
          "execution_count": 9
        }
      ]
    },
    {
      "cell_type": "code",
      "metadata": {
        "colab": {
          "base_uri": "https://localhost:8080/"
        },
        "id": "MYuKVAZPAs6T",
        "outputId": "b5210e69-0a94-43ed-e71f-486a268621a2"
      },
      "source": [
        "#Look at the datatypes, if there are any missing values, and memory usage\n",
        "df.info()\n",
        "#No missing values (29965 non-null counts for all attributes)\n",
        "#df.isnull().sum().sum()  #Anotehr way to check if there is any missing values (across all columns)"
      ],
      "execution_count": 10,
      "outputs": [
        {
          "output_type": "stream",
          "name": "stdout",
          "text": [
            "<class 'pandas.core.frame.DataFrame'>\n",
            "Int64Index: 29965 entries, 0 to 29999\n",
            "Data columns (total 24 columns):\n",
            " #   Column      Non-Null Count  Dtype\n",
            "---  ------      --------------  -----\n",
            " 0   LIMIT_BAL   29965 non-null  int64\n",
            " 1   SEX         29965 non-null  int64\n",
            " 2   EDUCATION   29965 non-null  int64\n",
            " 3   MARRIAGE    29965 non-null  int64\n",
            " 4   AGE         29965 non-null  int64\n",
            " 5   Repay_Sept  29965 non-null  int64\n",
            " 6   Repay_Aug   29965 non-null  int64\n",
            " 7   Repay_July  29965 non-null  int64\n",
            " 8   Repay_June  29965 non-null  int64\n",
            " 9   Repay_May   29965 non-null  int64\n",
            " 10  Repay_Apr   29965 non-null  int64\n",
            " 11  Bill_Sept   29965 non-null  int64\n",
            " 12  Bill_Aug    29965 non-null  int64\n",
            " 13  Bill_July   29965 non-null  int64\n",
            " 14  Bill_June   29965 non-null  int64\n",
            " 15  Bill_May    29965 non-null  int64\n",
            " 16  Bill_Apr    29965 non-null  int64\n",
            " 17  Pay_Sept    29965 non-null  int64\n",
            " 18  Pay_Aug     29965 non-null  int64\n",
            " 19  Pay_July    29965 non-null  int64\n",
            " 20  Pay_June    29965 non-null  int64\n",
            " 21  Pay_May     29965 non-null  int64\n",
            " 22  Pay_Apr     29965 non-null  int64\n",
            " 23  Default     29965 non-null  int64\n",
            "dtypes: int64(24)\n",
            "memory usage: 5.7 MB\n"
          ]
        }
      ]
    },
    {
      "cell_type": "code",
      "metadata": {
        "colab": {
          "base_uri": "https://localhost:8080/",
          "height": 879
        },
        "id": "aZiniRLuMvcm",
        "outputId": "5a18a3e0-9545-4493-8bb7-5c0694c9dccf"
      },
      "source": [
        "#Before taking a closer look at the variables individually, look at the histogram of all to get an oveall idea\n",
        "df.hist(figsize=(15,15));\n",
        "# Insight: All data types are int64, but some attributes are actually categorical, and not continous."
      ],
      "execution_count": 11,
      "outputs": [
        {
          "output_type": "display_data",
          "data": {
            "image/png": "[encoded data removed]",
            "text/plain": [
              "<Figure size 1080x1080 with 25 Axes>"
            ]
          },
          "metadata": {
            "needs_background": "light"
          }
        }
      ]
    },
    {
      "cell_type": "markdown",
      "metadata": {
        "id": "OlWbWFo8ErK-"
      },
      "source": [
        "# Dependent variable\n",
        " * Default: 0 = no default; 1 = default"
      ]
    },
    {
      "cell_type": "code",
      "metadata": {
        "colab": {
          "base_uri": "https://localhost:8080/"
        },
        "id": "9g2qseOBA82O",
        "outputId": "47874eed-1e89-4f88-db71-26b32dddc338"
      },
      "source": [
        "# First make sure dependent variable 'default' has only 0s (no default), and 1s (default)\n",
        "df['Default'].value_counts()"
      ],
      "execution_count": 12,
      "outputs": [
        {
          "output_type": "execute_result",
          "data": {
            "text/plain": [
              "0    23335\n",
              "1     6630\n",
              "Name: Default, dtype: int64"
            ]
          },
          "metadata": {},
          "execution_count": 12
        }
      ]
    },
    {
      "cell_type": "code",
      "metadata": {
        "colab": {
          "base_uri": "https://localhost:8080/"
        },
        "id": "3zsXU0jqCAWF",
        "outputId": "6ded6bb7-299e-4fbe-dd25-f4e962adbf61"
      },
      "source": [
        "minor_class = (df['Default'] == 1).sum()/len(df)*100\n",
        "major_class = (df['Default'] == 0).sum()/len(df)*100\n",
        "print(round(minor_class, 2),'% of customers will default next month.')\n",
        "print('If the classifier always predicts \"no default\", its accuracy is going to be', round(major_class, 2),'%')  \n",
        "#Insight: most customers will not default (imbalanced dataset)"
      ],
      "execution_count": 13,
      "outputs": [
        {
          "output_type": "stream",
          "name": "stdout",
          "text": [
            "22.13 % of customers will default next month.\n",
            "If the classifier always predicts \"no default\", its accuracy is going to be 77.87 %\n"
          ]
        }
      ]
    },
    {
      "cell_type": "markdown",
      "metadata": {
        "id": "QTU8lI2SEz8g"
      },
      "source": [
        "# Categorical Independent Variables\n",
        "* SEX: 1 = male; 2 = female\n",
        "* EDUCATION: 1 = graduate school; 2 = university; 3 = high school; 4 = others\n",
        "* MARRIAGE: 1 = married; 2 = single; 3 = others\n",
        "* Repay_: History of past payment. ***Sept., Aug., July, June, May, Apr.: \u0003\n",
        "\n",
        "   -2 = no consumption; -1 = pay duly; 0= the use of revolving credit; 1 = payment delay for one month; 2 = payment delay for two months; . . .; 9 = payment delay for nine months and above\n",
        "\n",
        "NOTE: categories -2 and 0 were not defined in the original source (Yeh and Lien, 2009), instead were explained in the source below:\n",
        "Sabharwal, S. and Agrawal A. (2020). Up and Running Google AutoML and AI Platform: Building Machine Learning and NLP Models Using AutoML and AI Platform for Production Environment. BPB PUBLICATIONS. \n"
      ]
    },
    {
      "cell_type": "code",
      "metadata": {
        "colab": {
          "base_uri": "https://localhost:8080/"
        },
        "id": "yDaGcjXGH6fs",
        "outputId": "5f590e4b-3af2-43cf-b81d-5cf35da03c66"
      },
      "source": [
        "df['SEX'].value_counts()"
      ],
      "execution_count": 14,
      "outputs": [
        {
          "output_type": "execute_result",
          "data": {
            "text/plain": [
              "2    18091\n",
              "1    11874\n",
              "Name: SEX, dtype: int64"
            ]
          },
          "metadata": {},
          "execution_count": 14
        }
      ]
    },
    {
      "cell_type": "code",
      "metadata": {
        "colab": {
          "base_uri": "https://localhost:8080/"
        },
        "id": "K3Mut1vuP_P5",
        "outputId": "d20cb8f5-ddee-4d54-da84-f9f4f9ef3e33"
      },
      "source": [
        "df['EDUCATION'].value_counts()"
      ],
      "execution_count": 15,
      "outputs": [
        {
          "output_type": "execute_result",
          "data": {
            "text/plain": [
              "2    14019\n",
              "1    10563\n",
              "3     4915\n",
              "5      280\n",
              "4      123\n",
              "6       51\n",
              "0       14\n",
              "Name: EDUCATION, dtype: int64"
            ]
          },
          "metadata": {},
          "execution_count": 15
        }
      ]
    },
    {
      "cell_type": "code",
      "metadata": {
        "colab": {
          "base_uri": "https://localhost:8080/"
        },
        "id": "A_H7cQ8JbkGR",
        "outputId": "79ce6c37-d70f-45bd-bdb2-eb8514c4d2b9"
      },
      "source": [
        "# \"0\", \"5\", and \"6\" can be combined to category \"others=4\", as no additional info is available about them. \n",
        "df['EDUCATION'] = df['EDUCATION'].astype('str').replace(['0','5', '6'], '4').astype('int64')\n",
        "df['EDUCATION'].value_counts()"
      ],
      "execution_count": 16,
      "outputs": [
        {
          "output_type": "execute_result",
          "data": {
            "text/plain": [
              "2    14019\n",
              "1    10563\n",
              "3     4915\n",
              "4      468\n",
              "Name: EDUCATION, dtype: int64"
            ]
          },
          "metadata": {},
          "execution_count": 16
        }
      ]
    },
    {
      "cell_type": "code",
      "metadata": {
        "colab": {
          "base_uri": "https://localhost:8080/"
        },
        "id": "hJGRh5AdO3P4",
        "outputId": "3ce12910-e169-4025-ebd0-03c6bb3b93a5"
      },
      "source": [
        "df['MARRIAGE'].value_counts()"
      ],
      "execution_count": 17,
      "outputs": [
        {
          "output_type": "execute_result",
          "data": {
            "text/plain": [
              "2    15945\n",
              "1    13643\n",
              "3      323\n",
              "0       54\n",
              "Name: MARRIAGE, dtype: int64"
            ]
          },
          "metadata": {},
          "execution_count": 17
        }
      ]
    },
    {
      "cell_type": "code",
      "metadata": {
        "colab": {
          "base_uri": "https://localhost:8080/"
        },
        "id": "Bw4KaSBsbQjm",
        "outputId": "a03bab70-8dca-48bb-88e6-bbd4795b5d21"
      },
      "source": [
        "# Yeh and Lien (2009) where this dataset came from defined only 3 categories for MARRIAGE\n",
        "# But there is a 4th category \"0\". \"0\" can be combined with the \"others=3\" category, as no additional info is available.\n",
        "df['MARRIAGE'] = df['MARRIAGE'].astype('str').replace('0', '3').astype('int64')\n",
        "df['MARRIAGE'].value_counts()"
      ],
      "execution_count": 18,
      "outputs": [
        {
          "output_type": "execute_result",
          "data": {
            "text/plain": [
              "2    15945\n",
              "1    13643\n",
              "3      377\n",
              "Name: MARRIAGE, dtype: int64"
            ]
          },
          "metadata": {},
          "execution_count": 18
        }
      ]
    },
    {
      "cell_type": "code",
      "metadata": {
        "colab": {
          "base_uri": "https://localhost:8080/",
          "height": 407
        },
        "id": "5ZIyJtl9_Q14",
        "outputId": "14c3e02a-bf41-4d12-a8a7-b59da8b4a10c"
      },
      "source": [
        "## Now plot categorical demographic variables: SEX, EDUCATION, and MARRIAGE\n",
        "# Rename the categories so they are easier to understand in the plots\n",
        "df_copy1=df.copy()\n",
        "df_copy1['SEX'].replace({1:'Male',2:'Female'}, inplace=True)\n",
        "df_copy1['EDUCATION'].replace({1:'Graduate School', 2:'University', 3:'High School', 4:'Others'}, inplace=True)\n",
        "df_copy1['MARRIAGE'].replace({1:'Married', 2:'Single', 3:'Others'}, inplace=True)\n",
        "\n",
        "cat_dem = df_copy1[['SEX', 'EDUCATION', 'MARRIAGE']]\n",
        "fig,ax=plt.subplots(1,3,figsize=(20,5))\n",
        "\n",
        "for cols,subplots in zip(cat_dem,ax.flatten()):\n",
        "    sns.countplot(x=df_copy1[cols],ax=subplots)\n",
        "\n",
        "    for label in subplots.get_xticklabels():\n",
        "        label.set_rotation(90)\n",
        "\n",
        "##Insights:\n",
        "# 60% of customers are female\n",
        "# Most customers have a bachelor's degree, followed by graduate-level degree\n",
        "# Most customers are single, followed closely by married."
      ],
      "execution_count": 19,
      "outputs": [
        {
          "output_type": "display_data",
          "data": {
            "image/png": "[encoded data removed]",
            "text/plain": [
              "<Figure size 1440x360 with 3 Axes>"
            ]
          },
          "metadata": {
            "needs_background": "light"
          }
        }
      ]
    },
    {
      "cell_type": "code",
      "metadata": {
        "colab": {
          "base_uri": "https://localhost:8080/",
          "height": 394
        },
        "id": "pfetFEF-RZq5",
        "outputId": "73916eb3-2bf2-4c45-e3df-5eea9343227e"
      },
      "source": [
        "pay_df = df[['Repay_Sept', 'Repay_Aug', 'Repay_July', 'Repay_June', 'Repay_May', 'Repay_Apr']]\n",
        "pay_df.apply(pd.Series.value_counts)"
      ],
      "execution_count": 20,
      "outputs": [
        {
          "output_type": "execute_result",
          "data": {
            "text/html": [
              "<div>\n",
              "<style scoped>\n",
              "    .dataframe tbody tr th:only-of-type {\n",
              "        vertical-align: middle;\n",
              "    }\n",
              "\n",
              "    .dataframe tbody tr th {\n",
              "        vertical-align: top;\n",
              "    }\n",
              "\n",
              "    .dataframe thead th {\n",
              "        text-align: right;\n",
              "    }\n",
              "</style>\n",
              "<table border=\"1\" class=\"dataframe\">\n",
              "  <thead>\n",
              "    <tr style=\"text-align: right;\">\n",
              "      <th></th>\n",
              "      <th>Repay_Sept</th>\n",
              "      <th>Repay_Aug</th>\n",
              "      <th>Repay_July</th>\n",
              "      <th>Repay_June</th>\n",
              "      <th>Repay_May</th>\n",
              "      <th>Repay_Apr</th>\n",
              "    </tr>\n",
              "  </thead>\n",
              "  <tbody>\n",
              "    <tr>\n",
              "      <th>-2</th>\n",
              "      <td>2750</td>\n",
              "      <td>3752</td>\n",
              "      <td>4055</td>\n",
              "      <td>4318</td>\n",
              "      <td>4516.0</td>\n",
              "      <td>4865.0</td>\n",
              "    </tr>\n",
              "    <tr>\n",
              "      <th>-1</th>\n",
              "      <td>5682</td>\n",
              "      <td>6046</td>\n",
              "      <td>5934</td>\n",
              "      <td>5683</td>\n",
              "      <td>5535.0</td>\n",
              "      <td>5736.0</td>\n",
              "    </tr>\n",
              "    <tr>\n",
              "      <th>0</th>\n",
              "      <td>14737</td>\n",
              "      <td>15730</td>\n",
              "      <td>15764</td>\n",
              "      <td>16455</td>\n",
              "      <td>16947.0</td>\n",
              "      <td>16286.0</td>\n",
              "    </tr>\n",
              "    <tr>\n",
              "      <th>1</th>\n",
              "      <td>3667</td>\n",
              "      <td>28</td>\n",
              "      <td>4</td>\n",
              "      <td>2</td>\n",
              "      <td>NaN</td>\n",
              "      <td>NaN</td>\n",
              "    </tr>\n",
              "    <tr>\n",
              "      <th>2</th>\n",
              "      <td>2666</td>\n",
              "      <td>3926</td>\n",
              "      <td>3819</td>\n",
              "      <td>3159</td>\n",
              "      <td>2626.0</td>\n",
              "      <td>2766.0</td>\n",
              "    </tr>\n",
              "    <tr>\n",
              "      <th>3</th>\n",
              "      <td>322</td>\n",
              "      <td>326</td>\n",
              "      <td>240</td>\n",
              "      <td>180</td>\n",
              "      <td>178.0</td>\n",
              "      <td>184.0</td>\n",
              "    </tr>\n",
              "    <tr>\n",
              "      <th>4</th>\n",
              "      <td>76</td>\n",
              "      <td>99</td>\n",
              "      <td>75</td>\n",
              "      <td>68</td>\n",
              "      <td>83.0</td>\n",
              "      <td>48.0</td>\n",
              "    </tr>\n",
              "    <tr>\n",
              "      <th>5</th>\n",
              "      <td>26</td>\n",
              "      <td>25</td>\n",
              "      <td>21</td>\n",
              "      <td>35</td>\n",
              "      <td>17.0</td>\n",
              "      <td>13.0</td>\n",
              "    </tr>\n",
              "    <tr>\n",
              "      <th>6</th>\n",
              "      <td>11</td>\n",
              "      <td>12</td>\n",
              "      <td>23</td>\n",
              "      <td>5</td>\n",
              "      <td>4.0</td>\n",
              "      <td>19.0</td>\n",
              "    </tr>\n",
              "    <tr>\n",
              "      <th>7</th>\n",
              "      <td>9</td>\n",
              "      <td>20</td>\n",
              "      <td>27</td>\n",
              "      <td>58</td>\n",
              "      <td>58.0</td>\n",
              "      <td>46.0</td>\n",
              "    </tr>\n",
              "    <tr>\n",
              "      <th>8</th>\n",
              "      <td>19</td>\n",
              "      <td>1</td>\n",
              "      <td>3</td>\n",
              "      <td>2</td>\n",
              "      <td>1.0</td>\n",
              "      <td>2.0</td>\n",
              "    </tr>\n",
              "  </tbody>\n",
              "</table>\n",
              "</div>"
            ],
            "text/plain": [
              "    Repay_Sept  Repay_Aug  Repay_July  Repay_June  Repay_May  Repay_Apr\n",
              "-2        2750       3752        4055        4318     4516.0     4865.0\n",
              "-1        5682       6046        5934        5683     5535.0     5736.0\n",
              " 0       14737      15730       15764       16455    16947.0    16286.0\n",
              " 1        3667         28           4           2        NaN        NaN\n",
              " 2        2666       3926        3819        3159     2626.0     2766.0\n",
              " 3         322        326         240         180      178.0      184.0\n",
              " 4          76         99          75          68       83.0       48.0\n",
              " 5          26         25          21          35       17.0       13.0\n",
              " 6          11         12          23           5        4.0       19.0\n",
              " 7           9         20          27          58       58.0       46.0\n",
              " 8          19          1           3           2        1.0        2.0"
            ]
          },
          "metadata": {},
          "execution_count": 20
        }
      ]
    },
    {
      "cell_type": "code",
      "metadata": {
        "colab": {
          "base_uri": "https://localhost:8080/",
          "height": 606
        },
        "id": "beL6TpuF96cL",
        "outputId": "e19d667b-1a0a-4fae-cfd3-75adb106c993"
      },
      "source": [
        "repay_=['Repay_Sept', 'Repay_Aug', 'Repay_July', 'Repay_June', 'Repay_May', 'Repay_Apr']\n",
        "fig,ax=plt.subplots(2,3,figsize=(20,10))\n",
        "\n",
        "for cols,subplots in zip(repay_,ax.flatten()):\n",
        "    sns.countplot(x=df[cols],ax=subplots) \n",
        "#Insight: Most customers use the revolving credit(0), followed by customers who pay duly (-1), and customers who don't use their credit (-2),\n",
        " #respectively. Except September where the number of customers who were late on their payment by 1 month exceeded the customers who don't use their credit."
      ],
      "execution_count": 21,
      "outputs": [
        {
          "output_type": "display_data",
          "data": {
            "image/png": "[encoded data removed]",
            "text/plain": [
              "<Figure size 1440x720 with 6 Axes>"
            ]
          },
          "metadata": {
            "needs_background": "light"
          }
        }
      ]
    },
    {
      "cell_type": "markdown",
      "metadata": {
        "id": "Oe6GijBAH7C9"
      },
      "source": [
        "# Numeric Independent Variables\n",
        "* LIMIT_BAL: Amount of the given credit (New Taiwan dollar=NTD)\n",
        "*  AGE: in years\n",
        "* BILL_AMT: Amount of bill statement. ***Sept., Aug., July, June, May, Apr.***\n",
        "* PAY_AMT: Amount of previous payment. ***Sept., Aug., July, June, May, Apr.***"
      ]
    },
    {
      "cell_type": "code",
      "metadata": {
        "colab": {
          "base_uri": "https://localhost:8080/",
          "height": 300
        },
        "id": "9wBi-FumIyMS",
        "outputId": "578eca13-df23-4a17-ed37-f77c67b73326"
      },
      "source": [
        "# Compute summary statistics for AGE and LIMIT_BAL.\n",
        "df[['LIMIT_BAL', 'AGE']].describe()\n",
        "# Customers have a credit between 10,000 and 1,000,000 NTD (~CAD $450 - $45,000)\n",
        "# Customers are between 21-79 yrs old. Mean age is 35.5."
      ],
      "execution_count": 22,
      "outputs": [
        {
          "output_type": "execute_result",
          "data": {
            "text/html": [
              "<div>\n",
              "<style scoped>\n",
              "    .dataframe tbody tr th:only-of-type {\n",
              "        vertical-align: middle;\n",
              "    }\n",
              "\n",
              "    .dataframe tbody tr th {\n",
              "        vertical-align: top;\n",
              "    }\n",
              "\n",
              "    .dataframe thead th {\n",
              "        text-align: right;\n",
              "    }\n",
              "</style>\n",
              "<table border=\"1\" class=\"dataframe\">\n",
              "  <thead>\n",
              "    <tr style=\"text-align: right;\">\n",
              "      <th></th>\n",
              "      <th>LIMIT_BAL</th>\n",
              "      <th>AGE</th>\n",
              "    </tr>\n",
              "  </thead>\n",
              "  <tbody>\n",
              "    <tr>\n",
              "      <th>count</th>\n",
              "      <td>29965.000000</td>\n",
              "      <td>29965.000000</td>\n",
              "    </tr>\n",
              "    <tr>\n",
              "      <th>mean</th>\n",
              "      <td>167442.005006</td>\n",
              "      <td>35.487969</td>\n",
              "    </tr>\n",
              "    <tr>\n",
              "      <th>std</th>\n",
              "      <td>129760.135222</td>\n",
              "      <td>9.219459</td>\n",
              "    </tr>\n",
              "    <tr>\n",
              "      <th>min</th>\n",
              "      <td>10000.000000</td>\n",
              "      <td>21.000000</td>\n",
              "    </tr>\n",
              "    <tr>\n",
              "      <th>25%</th>\n",
              "      <td>50000.000000</td>\n",
              "      <td>28.000000</td>\n",
              "    </tr>\n",
              "    <tr>\n",
              "      <th>50%</th>\n",
              "      <td>140000.000000</td>\n",
              "      <td>34.000000</td>\n",
              "    </tr>\n",
              "    <tr>\n",
              "      <th>75%</th>\n",
              "      <td>240000.000000</td>\n",
              "      <td>41.000000</td>\n",
              "    </tr>\n",
              "    <tr>\n",
              "      <th>max</th>\n",
              "      <td>1000000.000000</td>\n",
              "      <td>79.000000</td>\n",
              "    </tr>\n",
              "  </tbody>\n",
              "</table>\n",
              "</div>"
            ],
            "text/plain": [
              "            LIMIT_BAL           AGE\n",
              "count    29965.000000  29965.000000\n",
              "mean    167442.005006     35.487969\n",
              "std     129760.135222      9.219459\n",
              "min      10000.000000     21.000000\n",
              "25%      50000.000000     28.000000\n",
              "50%     140000.000000     34.000000\n",
              "75%     240000.000000     41.000000\n",
              "max    1000000.000000     79.000000"
            ]
          },
          "metadata": {},
          "execution_count": 22
        }
      ]
    },
    {
      "cell_type": "code",
      "metadata": {
        "colab": {
          "base_uri": "https://localhost:8080/",
          "height": 458
        },
        "id": "B9JOxtWFnctr",
        "outputId": "5a0fbe73-0ecf-4fdf-d718-8b5990f30d78"
      },
      "source": [
        "plt.subplots(figsize=(20,5))\n",
        "plt.subplot(121)\n",
        "sns.distplot(df.LIMIT_BAL)    #add kde=False, if want to see counts on y-axis\n",
        "plt.title('Balance Limit of Customers')\n",
        "\n",
        "plt.subplot(122)\n",
        "sns.distplot(df.AGE)\n",
        "plt.title('Age of Customers')\n",
        "\n",
        "# Insight: Balance Limit of customers is skewed right, with most customers having low balance limits.\n",
        "# Age is skewed right"
      ],
      "execution_count": 23,
      "outputs": [
        {
          "output_type": "stream",
          "name": "stderr",
          "text": [
            "/usr/local/lib/python3.7/dist-packages/seaborn/distributions.py:2619: FutureWarning: `distplot` is a deprecated function and will be removed in a future version. Please adapt your code to use either `displot` (a figure-level function with similar flexibility) or `histplot` (an axes-level function for histograms).\n",
            "  warnings.warn(msg, FutureWarning)\n",
            "/usr/local/lib/python3.7/dist-packages/seaborn/distributions.py:2619: FutureWarning: `distplot` is a deprecated function and will be removed in a future version. Please adapt your code to use either `displot` (a figure-level function with similar flexibility) or `histplot` (an axes-level function for histograms).\n",
            "  warnings.warn(msg, FutureWarning)\n"
          ]
        },
        {
          "output_type": "execute_result",
          "data": {
            "text/plain": [
              "Text(0.5, 1.0, 'Age of Customers')"
            ]
          },
          "metadata": {},
          "execution_count": 23
        },
        {
          "output_type": "display_data",
          "data": {
            "image/png": "[encoded data removed]",
            "text/plain": [
              "<Figure size 1440x360 with 2 Axes>"
            ]
          },
          "metadata": {
            "needs_background": "light"
          }
        }
      ]
    },
    {
      "cell_type": "code",
      "metadata": {
        "colab": {
          "base_uri": "https://localhost:8080/",
          "height": 300
        },
        "id": "Djd3fXygNOie",
        "outputId": "9195a0cb-9083-4033-9c91-12d0c0d93291"
      },
      "source": [
        "# Compute summary statistics for BILL_AMT.\n",
        "df[['Bill_Sept', 'Bill_Aug', 'Bill_July', 'Bill_June', 'Bill_May', 'Bill_Apr']].describe()"
      ],
      "execution_count": 24,
      "outputs": [
        {
          "output_type": "execute_result",
          "data": {
            "text/html": [
              "<div>\n",
              "<style scoped>\n",
              "    .dataframe tbody tr th:only-of-type {\n",
              "        vertical-align: middle;\n",
              "    }\n",
              "\n",
              "    .dataframe tbody tr th {\n",
              "        vertical-align: top;\n",
              "    }\n",
              "\n",
              "    .dataframe thead th {\n",
              "        text-align: right;\n",
              "    }\n",
              "</style>\n",
              "<table border=\"1\" class=\"dataframe\">\n",
              "  <thead>\n",
              "    <tr style=\"text-align: right;\">\n",
              "      <th></th>\n",
              "      <th>Bill_Sept</th>\n",
              "      <th>Bill_Aug</th>\n",
              "      <th>Bill_July</th>\n",
              "      <th>Bill_June</th>\n",
              "      <th>Bill_May</th>\n",
              "      <th>Bill_Apr</th>\n",
              "    </tr>\n",
              "  </thead>\n",
              "  <tbody>\n",
              "    <tr>\n",
              "      <th>count</th>\n",
              "      <td>29965.000000</td>\n",
              "      <td>29965.000000</td>\n",
              "      <td>2.996500e+04</td>\n",
              "      <td>29965.000000</td>\n",
              "      <td>29965.000000</td>\n",
              "      <td>29965.000000</td>\n",
              "    </tr>\n",
              "    <tr>\n",
              "      <th>mean</th>\n",
              "      <td>51283.009778</td>\n",
              "      <td>49236.366294</td>\n",
              "      <td>4.706792e+04</td>\n",
              "      <td>43313.329885</td>\n",
              "      <td>40358.334390</td>\n",
              "      <td>38917.012281</td>\n",
              "    </tr>\n",
              "    <tr>\n",
              "      <th>std</th>\n",
              "      <td>73658.132403</td>\n",
              "      <td>71195.567392</td>\n",
              "      <td>6.937135e+04</td>\n",
              "      <td>64353.514373</td>\n",
              "      <td>60817.130623</td>\n",
              "      <td>59574.147742</td>\n",
              "    </tr>\n",
              "    <tr>\n",
              "      <th>min</th>\n",
              "      <td>-165580.000000</td>\n",
              "      <td>-69777.000000</td>\n",
              "      <td>-1.572640e+05</td>\n",
              "      <td>-170000.000000</td>\n",
              "      <td>-81334.000000</td>\n",
              "      <td>-339603.000000</td>\n",
              "    </tr>\n",
              "    <tr>\n",
              "      <th>25%</th>\n",
              "      <td>3595.000000</td>\n",
              "      <td>3010.000000</td>\n",
              "      <td>2.711000e+03</td>\n",
              "      <td>2360.000000</td>\n",
              "      <td>1787.000000</td>\n",
              "      <td>1262.000000</td>\n",
              "    </tr>\n",
              "    <tr>\n",
              "      <th>50%</th>\n",
              "      <td>22438.000000</td>\n",
              "      <td>21295.000000</td>\n",
              "      <td>2.013500e+04</td>\n",
              "      <td>19081.000000</td>\n",
              "      <td>18130.000000</td>\n",
              "      <td>17124.000000</td>\n",
              "    </tr>\n",
              "    <tr>\n",
              "      <th>75%</th>\n",
              "      <td>67260.000000</td>\n",
              "      <td>64109.000000</td>\n",
              "      <td>6.020100e+04</td>\n",
              "      <td>54601.000000</td>\n",
              "      <td>50247.000000</td>\n",
              "      <td>49252.000000</td>\n",
              "    </tr>\n",
              "    <tr>\n",
              "      <th>max</th>\n",
              "      <td>964511.000000</td>\n",
              "      <td>983931.000000</td>\n",
              "      <td>1.664089e+06</td>\n",
              "      <td>891586.000000</td>\n",
              "      <td>927171.000000</td>\n",
              "      <td>961664.000000</td>\n",
              "    </tr>\n",
              "  </tbody>\n",
              "</table>\n",
              "</div>"
            ],
            "text/plain": [
              "           Bill_Sept       Bill_Aug  ...       Bill_May       Bill_Apr\n",
              "count   29965.000000   29965.000000  ...   29965.000000   29965.000000\n",
              "mean    51283.009778   49236.366294  ...   40358.334390   38917.012281\n",
              "std     73658.132403   71195.567392  ...   60817.130623   59574.147742\n",
              "min   -165580.000000  -69777.000000  ...  -81334.000000 -339603.000000\n",
              "25%      3595.000000    3010.000000  ...    1787.000000    1262.000000\n",
              "50%     22438.000000   21295.000000  ...   18130.000000   17124.000000\n",
              "75%     67260.000000   64109.000000  ...   50247.000000   49252.000000\n",
              "max    964511.000000  983931.000000  ...  927171.000000  961664.000000\n",
              "\n",
              "[8 rows x 6 columns]"
            ]
          },
          "metadata": {},
          "execution_count": 24
        }
      ]
    },
    {
      "cell_type": "code",
      "metadata": {
        "colab": {
          "base_uri": "https://localhost:8080/",
          "height": 300
        },
        "id": "ocKEREwtOAq-",
        "outputId": "47db745a-b122-4177-b42c-30b6e5602c31"
      },
      "source": [
        "# Compute summary statistics for PAY_AMT.\n",
        "df[['Pay_Sept', 'Pay_Aug', 'Pay_July', 'Pay_June', 'Pay_May', 'Pay_Apr']].describe()"
      ],
      "execution_count": 25,
      "outputs": [
        {
          "output_type": "execute_result",
          "data": {
            "text/html": [
              "<div>\n",
              "<style scoped>\n",
              "    .dataframe tbody tr th:only-of-type {\n",
              "        vertical-align: middle;\n",
              "    }\n",
              "\n",
              "    .dataframe tbody tr th {\n",
              "        vertical-align: top;\n",
              "    }\n",
              "\n",
              "    .dataframe thead th {\n",
              "        text-align: right;\n",
              "    }\n",
              "</style>\n",
              "<table border=\"1\" class=\"dataframe\">\n",
              "  <thead>\n",
              "    <tr style=\"text-align: right;\">\n",
              "      <th></th>\n",
              "      <th>Pay_Sept</th>\n",
              "      <th>Pay_Aug</th>\n",
              "      <th>Pay_July</th>\n",
              "      <th>Pay_June</th>\n",
              "      <th>Pay_May</th>\n",
              "      <th>Pay_Apr</th>\n",
              "    </tr>\n",
              "  </thead>\n",
              "  <tbody>\n",
              "    <tr>\n",
              "      <th>count</th>\n",
              "      <td>29965.000000</td>\n",
              "      <td>2.996500e+04</td>\n",
              "      <td>29965.000000</td>\n",
              "      <td>29965.000000</td>\n",
              "      <td>29965.000000</td>\n",
              "      <td>29965.000000</td>\n",
              "    </tr>\n",
              "    <tr>\n",
              "      <th>mean</th>\n",
              "      <td>5670.099316</td>\n",
              "      <td>5.927983e+03</td>\n",
              "      <td>5231.688837</td>\n",
              "      <td>4831.617454</td>\n",
              "      <td>4804.897047</td>\n",
              "      <td>5221.498014</td>\n",
              "    </tr>\n",
              "    <tr>\n",
              "      <th>std</th>\n",
              "      <td>16571.849467</td>\n",
              "      <td>2.305346e+04</td>\n",
              "      <td>17616.361124</td>\n",
              "      <td>15674.464538</td>\n",
              "      <td>15286.372298</td>\n",
              "      <td>17786.976864</td>\n",
              "    </tr>\n",
              "    <tr>\n",
              "      <th>min</th>\n",
              "      <td>0.000000</td>\n",
              "      <td>0.000000e+00</td>\n",
              "      <td>0.000000</td>\n",
              "      <td>0.000000</td>\n",
              "      <td>0.000000</td>\n",
              "      <td>0.000000</td>\n",
              "    </tr>\n",
              "    <tr>\n",
              "      <th>25%</th>\n",
              "      <td>1000.000000</td>\n",
              "      <td>8.500000e+02</td>\n",
              "      <td>390.000000</td>\n",
              "      <td>300.000000</td>\n",
              "      <td>261.000000</td>\n",
              "      <td>131.000000</td>\n",
              "    </tr>\n",
              "    <tr>\n",
              "      <th>50%</th>\n",
              "      <td>2102.000000</td>\n",
              "      <td>2.010000e+03</td>\n",
              "      <td>1804.000000</td>\n",
              "      <td>1500.000000</td>\n",
              "      <td>1500.000000</td>\n",
              "      <td>1500.000000</td>\n",
              "    </tr>\n",
              "    <tr>\n",
              "      <th>75%</th>\n",
              "      <td>5008.000000</td>\n",
              "      <td>5.000000e+03</td>\n",
              "      <td>4512.000000</td>\n",
              "      <td>4016.000000</td>\n",
              "      <td>4042.000000</td>\n",
              "      <td>4000.000000</td>\n",
              "    </tr>\n",
              "    <tr>\n",
              "      <th>max</th>\n",
              "      <td>873552.000000</td>\n",
              "      <td>1.684259e+06</td>\n",
              "      <td>896040.000000</td>\n",
              "      <td>621000.000000</td>\n",
              "      <td>426529.000000</td>\n",
              "      <td>528666.000000</td>\n",
              "    </tr>\n",
              "  </tbody>\n",
              "</table>\n",
              "</div>"
            ],
            "text/plain": [
              "            Pay_Sept       Pay_Aug  ...        Pay_May        Pay_Apr\n",
              "count   29965.000000  2.996500e+04  ...   29965.000000   29965.000000\n",
              "mean     5670.099316  5.927983e+03  ...    4804.897047    5221.498014\n",
              "std     16571.849467  2.305346e+04  ...   15286.372298   17786.976864\n",
              "min         0.000000  0.000000e+00  ...       0.000000       0.000000\n",
              "25%      1000.000000  8.500000e+02  ...     261.000000     131.000000\n",
              "50%      2102.000000  2.010000e+03  ...    1500.000000    1500.000000\n",
              "75%      5008.000000  5.000000e+03  ...    4042.000000    4000.000000\n",
              "max    873552.000000  1.684259e+06  ...  426529.000000  528666.000000\n",
              "\n",
              "[8 rows x 6 columns]"
            ]
          },
          "metadata": {},
          "execution_count": 25
        }
      ]
    },
    {
      "cell_type": "code",
      "metadata": {
        "id": "p8Ryj3_t8n0L"
      },
      "source": [
        "#Export the cleaned data to the Drive for the next step (EDA)\n",
        "df.to_csv('/content/drive/MyDrive/Capstone_project/v2_credit_default.csv', index=False)     #encoding='utf-8'"
      ],
      "execution_count": 26,
      "outputs": []
    }
  ]
}