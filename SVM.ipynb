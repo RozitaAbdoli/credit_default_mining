{
  "nbformat": 4,
  "nbformat_minor": 0,
  "metadata": {
    "colab": {
      "name": "SVM.ipynb",
      "provenance": [],
      "collapsed_sections": [],
      "authorship_tag": "ABX9TyOQSVZU6uMqAekWCdyzo77y",
      "include_colab_link": true
    },
    "kernelspec": {
      "name": "python3",
      "display_name": "Python 3"
    },
    "language_info": {
      "name": "python"
    }
  },
  "cells": [
    {
      "cell_type": "markdown",
      "metadata": {
        "id": "view-in-github",
        "colab_type": "text"
      },
      "source": [
        "<a href=\"https://colab.research.google.com/github/RozitaAbdoli/credit_default_mining/blob/main/SVM.ipynb\" target=\"_parent\"><img src=\"https://colab.research.google.com/assets/colab-badge.svg\" alt=\"Open In Colab\"/></a>"
      ]
    },
    {
      "cell_type": "markdown",
      "metadata": {
        "id": "a5jFpbmrli84"
      },
      "source": [
        "* SVM can handle multiple continuous, and categorical variables\n",
        "* Will try different kernels: linear, poly, RBF, and Sigmoid"
      ]
    },
    {
      "cell_type": "code",
      "metadata": {
        "id": "M7ZyS1zzYllJ"
      },
      "source": [
        "import numpy as np\n",
        "import pandas as pd\n",
        "\n",
        "from sklearn import preprocessing\n",
        "from imblearn.combine import SMOTETomek \n",
        "\n",
        "from sklearn import svm\n",
        "from sklearn import metrics\n",
        "from sklearn.model_selection import train_test_split\n",
        "from sklearn.metrics import classification_report\n",
        "import matplotlib.pyplot as plt\n",
        "from sklearn.metrics import confusion_matrix, accuracy_score, precision_score, recall_score, roc_curve, roc_auc_score\n",
        "from sklearn import preprocessing\n",
        "\n",
        "from sklearn.model_selection import GridSearchCV\n",
        "from sklearn.model_selection import RepeatedKFold\n",
        "from sklearn.model_selection import cross_val_score\n",
        "from numpy import mean\n",
        "from numpy import std"
      ],
      "execution_count": null,
      "outputs": []
    },
    {
      "cell_type": "code",
      "metadata": {
        "id": "TJyXv-5cX7Nr",
        "colab": {
          "base_uri": "https://localhost:8080/"
        },
        "outputId": "79b15755-31eb-4b81-d9d4-a77dcf943c65"
      },
      "source": [
        "#Import Drive API and authenticate\n",
        "from google.colab import drive\n",
        "#Mount Drive to the Colab VM\n",
        "drive.mount('/content/drive')"
      ],
      "execution_count": null,
      "outputs": [
        {
          "output_type": "stream",
          "name": "stdout",
          "text": [
            "Drive already mounted at /content/drive; to attempt to forcibly remount, call drive.mount(\"/content/drive\", force_remount=True).\n"
          ]
        }
      ]
    },
    {
      "cell_type": "code",
      "metadata": {
        "id": "Kx4h0qZs5jqT"
      },
      "source": [
        "#Load the dataset into pandas DataFrame\n",
        "df = pd.read_csv(\"/content/drive/MyDrive/Capstone_project/v2_credit_default.csv\")"
      ],
      "execution_count": null,
      "outputs": []
    },
    {
      "cell_type": "code",
      "metadata": {
        "id": "m8tuyqTyaLRL"
      },
      "source": [
        "#Seperate the independent and dependent variables.\n",
        "df_independent = df.drop(['Default'], axis=1)\n",
        "df_default = df['Default']"
      ],
      "execution_count": null,
      "outputs": []
    },
    {
      "cell_type": "code",
      "metadata": {
        "id": "5Uc14Ll1aShQ"
      },
      "source": [
        "# split the data into 80% training+validation and 20% test\n",
        "X_train, X_test, y_train, y_test = train_test_split(df_independent, df_default, test_size=0.20, random_state=1) "
      ],
      "execution_count": null,
      "outputs": []
    },
    {
      "cell_type": "code",
      "metadata": {
        "id": "PyA_isrGanf9"
      },
      "source": [
        "# Scale input variables for training+validation (X_train)\n",
        "X_train_scaled = preprocessing.MinMaxScaler().fit_transform(X_train)"
      ],
      "execution_count": null,
      "outputs": []
    },
    {
      "cell_type": "code",
      "metadata": {
        "colab": {
          "base_uri": "https://localhost:8080/"
        },
        "id": "3g2aAHQlatPs",
        "outputId": "2e2e61b6-e3ce-463e-8b43-840061be061b"
      },
      "source": [
        "# Balancing using SMOTE Tomek\n",
        "X_smt, y_smt = SMOTETomek(random_state=1).fit_sample(X_train_scaled, y_train.squeeze())"
      ],
      "execution_count": null,
      "outputs": [
        {
          "output_type": "stream",
          "name": "stderr",
          "text": [
            "/usr/local/lib/python3.7/dist-packages/sklearn/utils/deprecation.py:87: FutureWarning: Function safe_indexing is deprecated; safe_indexing is deprecated in version 0.22 and will be removed in version 0.24.\n",
            "  warnings.warn(msg, category=FutureWarning)\n",
            "/usr/local/lib/python3.7/dist-packages/sklearn/utils/deprecation.py:87: FutureWarning: Function safe_indexing is deprecated; safe_indexing is deprecated in version 0.22 and will be removed in version 0.24.\n",
            "  warnings.warn(msg, category=FutureWarning)\n"
          ]
        }
      ]
    },
    {
      "cell_type": "code",
      "metadata": {
        "id": "nf1rfmQ_bg0d"
      },
      "source": [
        "# #hyperparameter adjustment with GridSearchCV\n",
        "# # Testing different kernels. Can add additional hyperparameters to the param_grid dictionary for optimization too.\n",
        "# svm_model = svm.SVC(random_state=1, degree=8)\n",
        "\n",
        "# kernel_options = ['linear', 'poly', 'rbf', 'sigmoid']\n",
        "\n",
        "# param_grid = dict(kernel = kernel_options)\n",
        "# grid = GridSearchCV(svm_model, param_grid, cv=10, scoring = 'accuracy')\n",
        "# grid.fit(X_smt,y_smt)\n",
        "\n",
        "# print (grid.best_params_) \n",
        "# print (grid.best_score_) "
      ],
      "execution_count": null,
      "outputs": []
    },
    {
      "cell_type": "code",
      "metadata": {
        "colab": {
          "base_uri": "https://localhost:8080/"
        },
        "id": "_8zRzBk-gc0R",
        "outputId": "2f85d81c-3ee1-442f-b9b6-688ac920dc4f"
      },
      "source": [
        "#Finally test with the test set (X_test):\n",
        "# Fit the model with linear kernel\n",
        "svm_model = svm.SVC(kernel ='linear',random_state=1)\n",
        "svm_model.fit(X_smt, y_smt)\n",
        "# Predict using the scaled X_test\n",
        "min_max_scaler = preprocessing.MinMaxScaler()\n",
        "X_test_scaled = preprocessing.MinMaxScaler().fit_transform(X_test)\n",
        "y_pred = svm_model.predict(X_test_scaled)\n",
        "# performance metrics\n",
        "cm = confusion_matrix(y_test, y_pred)\n",
        "print(cm)\n",
        "print('accuracy', accuracy_score(y_test, y_pred))\n",
        "print('precision', precision_score(y_test, y_pred))\n",
        "print('recall', recall_score(y_test, y_pred))"
      ],
      "execution_count": null,
      "outputs": [
        {
          "output_type": "stream",
          "name": "stdout",
          "text": [
            "[[4412  253]\n",
            " [ 896  432]]\n",
            "accuracy 0.8082763223761055\n",
            "precision 0.6306569343065693\n",
            "recall 0.3253012048192771\n"
          ]
        }
      ]
    },
    {
      "cell_type": "code",
      "metadata": {
        "colab": {
          "base_uri": "https://localhost:8080/"
        },
        "id": "iUovwM60jZeg",
        "outputId": "b6955a65-5c83-4ba2-b817-47d349083b65"
      },
      "source": [
        "# Fit the model with poly kernel\n",
        "svm_model = svm.SVC(kernel ='poly',random_state=1, degree=8)\n",
        "svm_model.fit(X_smt, y_smt)\n",
        "# Predict using the scaled X_test\n",
        "min_max_scaler = preprocessing.MinMaxScaler()\n",
        "X_test_scaled = preprocessing.MinMaxScaler().fit_transform(X_test)\n",
        "y_pred = svm_model.predict(X_test_scaled)\n",
        "# performance metrics\n",
        "cm = confusion_matrix(y_test, y_pred)\n",
        "print(cm)\n",
        "print('accuracy', accuracy_score(y_test, y_pred))\n",
        "print('precision', precision_score(y_test, y_pred))\n",
        "print('recall', recall_score(y_test, y_pred))"
      ],
      "execution_count": null,
      "outputs": [
        {
          "output_type": "stream",
          "name": "stdout",
          "text": [
            "[[4154  511]\n",
            " [1027  301]]\n",
            "accuracy 0.7433672618054397\n",
            "precision 0.3706896551724138\n",
            "recall 0.22665662650602408\n"
          ]
        }
      ]
    },
    {
      "cell_type": "code",
      "metadata": {
        "colab": {
          "base_uri": "https://localhost:8080/"
        },
        "id": "sfknUw7OjOGC",
        "outputId": "b000a203-5de6-488e-8c3d-a01635af9b79"
      },
      "source": [
        "# Fit the model with sigmoid kernel\n",
        "svm_model = svm.SVC(kernel ='sigmoid',random_state=1)\n",
        "svm_model.fit(X_smt, y_smt)\n",
        "# Predict using the scaled X_test\n",
        "min_max_scaler = preprocessing.MinMaxScaler()\n",
        "X_test_scaled = preprocessing.MinMaxScaler().fit_transform(X_test)\n",
        "y_pred = svm_model.predict(X_test_scaled)\n",
        "# performance metrics\n",
        "cm = confusion_matrix(y_test, y_pred)\n",
        "print(cm)\n",
        "print('accuracy', accuracy_score(y_test, y_pred))\n",
        "print('precision', precision_score(y_test, y_pred))\n",
        "print('recall', recall_score(y_test, y_pred))"
      ],
      "execution_count": null,
      "outputs": [
        {
          "output_type": "stream",
          "name": "stdout",
          "text": [
            "[[2841 1824]\n",
            " [ 736  592]]\n",
            "accuracy 0.5728349741364925\n",
            "precision 0.24503311258278146\n",
            "recall 0.4457831325301205\n"
          ]
        }
      ]
    },
    {
      "cell_type": "code",
      "metadata": {
        "colab": {
          "base_uri": "https://localhost:8080/"
        },
        "id": "Obv5s9jUi-G6",
        "outputId": "be6e1a9d-869f-4fad-aefa-787753a42e80"
      },
      "source": [
        "# Fit the model with Radial Basis Function kernel\n",
        "svm_model = svm.SVC(kernel ='rbf',random_state=1)   #tried gamma=0.1 instead of the default gamma, with similar results\n",
        "svm_model.fit(X_smt, y_smt)\n",
        "# Predict using the scaled X_test\n",
        "min_max_scaler = preprocessing.MinMaxScaler()\n",
        "X_test_scaled = preprocessing.MinMaxScaler().fit_transform(X_test)\n",
        "y_pred = svm_model.predict(X_test_scaled)\n",
        "# performance metrics\n",
        "cm = confusion_matrix(y_test, y_pred)\n",
        "print(cm)\n",
        "print('accuracy', accuracy_score(y_test, y_pred))\n",
        "print('precision', precision_score(y_test, y_pred))\n",
        "print('recall', recall_score(y_test, y_pred))"
      ],
      "execution_count": null,
      "outputs": [
        {
          "output_type": "stream",
          "name": "stdout",
          "text": [
            "[[4042  623]\n",
            " [ 637  691]]\n",
            "accuracy 0.7897547138328049\n",
            "precision 0.525875190258752\n",
            "recall 0.5203313253012049\n"
          ]
        }
      ]
    }
  ]
}