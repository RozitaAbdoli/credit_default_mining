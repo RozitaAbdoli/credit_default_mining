{
  "nbformat": 4,
  "nbformat_minor": 0,
  "metadata": {
    "colab": {
      "name": "EDA_correlations",
      "provenance": [],
      "collapsed_sections": [],
      "authorship_tag": "ABX9TyNxPDEEUyWqhA76rUYvN5Cv",
      "include_colab_link": true
    },
    "kernelspec": {
      "name": "python3",
      "display_name": "Python 3"
    },
    "language_info": {
      "name": "python"
    }
  },
  "cells": [
    {
      "cell_type": "markdown",
      "metadata": {
        "id": "view-in-github",
        "colab_type": "text"
      },
      "source": [
        "<a href=\"https://colab.research.google.com/github/RozitaAbdoli/credit_default_mining/blob/main/EDA_correlations.ipynb\" target=\"_parent\"><img src=\"https://colab.research.google.com/assets/colab-badge.svg\" alt=\"Open In Colab\"/></a>"
      ]
    },
    {
      "cell_type": "code",
      "metadata": {
        "id": "rqWeb7Wu_eeK"
      },
      "source": [
        "# Install necessary packages and import relevant libraries\n",
        "import pandas as pd\n",
        "import seaborn as sns"
      ],
      "execution_count": 1,
      "outputs": []
    },
    {
      "cell_type": "code",
      "metadata": {
        "id": "TJyXv-5cX7Nr",
        "colab": {
          "base_uri": "https://localhost:8080/"
        },
        "outputId": "f4bc04b5-a3f5-4ded-de7c-d5ff50d563fe"
      },
      "source": [
        "#Import Drive API and authenticate\n",
        "from google.colab import drive\n",
        "#Mount Drive to the Colab VM\n",
        "drive.mount('/content/drive')"
      ],
      "execution_count": 2,
      "outputs": [
        {
          "output_type": "stream",
          "name": "stdout",
          "text": [
            "Mounted at /content/drive\n"
          ]
        }
      ]
    },
    {
      "cell_type": "code",
      "metadata": {
        "id": "1lxNhGxMAUKS"
      },
      "source": [
        "#Load the dataset into pandas DataFrame\n",
        "df = pd.read_csv(\"/content/drive/MyDrive/Capstone_project/v2_credit_default.csv\")"
      ],
      "execution_count": 3,
      "outputs": []
    },
    {
      "cell_type": "code",
      "metadata": {
        "colab": {
          "base_uri": "https://localhost:8080/",
          "height": 318
        },
        "id": "1swa2jFl4Y04",
        "outputId": "6d9f80f8-73ed-45ec-94c8-ddb8003def36"
      },
      "source": [
        "#Heat map of the (pearson) correlations\n",
        "corr_matrix = df.corr()\n",
        "sns.heatmap(corr_matrix);\n",
        "#insights:\n",
        "# Bill_ amount for different months are highly correlated\n",
        "# Repay_ for different months are highly correlated\n",
        "# Overall customers seem to have similar bill amounts and repay_ habits months after months"
      ],
      "execution_count": 4,
      "outputs": [
        {
          "output_type": "display_data",
          "data": {
            "image/png": "[encoded data removed]",
            "text/plain": [
              "<Figure size 432x288 with 2 Axes>"
            ]
          },
          "metadata": {
            "needs_background": "light"
          }
        }
      ]
    },
    {
      "cell_type": "markdown",
      "metadata": {
        "id": "Y71kFldm6oYn"
      },
      "source": [
        "# Correlation with the class attribute \"Default\""
      ]
    },
    {
      "cell_type": "code",
      "metadata": {
        "colab": {
          "base_uri": "https://localhost:8080/"
        },
        "id": "sohEEut4upYi",
        "outputId": "8591ae9d-925a-47d1-e3f0-b55b0cb33e69"
      },
      "source": [
        "# This code block calculates the numeric values for the pearson correlation \n",
        "\n",
        "# Make a list of the attributes. leave Default in as a check (Deafult's correlation with itself should be 1)\n",
        "corr_list = list(df.columns)\n",
        "# In a for loop calculate the correlation between each attribute and Default\n",
        "l=[]\n",
        "for i in corr_list:\n",
        "  s=[i, df[i].corr(df['Default'], method='pearson')]\n",
        "  l.append(s)\n",
        "# Take the absolute values of the correlations, as we only care about the magnitude of the correlation\n",
        "l_pos =[]\n",
        "for i in l:\n",
        " i = [[i[0],abs (i[1])]]\n",
        " l_pos = l_pos + i\n",
        " #Sort the correlations in descending order (from most correlated to least)\n",
        "l_pos_sorted = sorted(l_pos, key=lambda x: x[1], reverse=True)\n",
        "for k in l_pos_sorted:\n",
        "  print(k)\n",
        "  # Insight: Top 7 most correlated predictors with the class attribute are the Repay_ status in the last 6 months, and the balance limit of the customer's account."
      ],
      "execution_count": 5,
      "outputs": [
        {
          "output_type": "stream",
          "name": "stdout",
          "text": [
            "['Default', 1.0]\n",
            "['Repay_Sept', 0.3249637596767926]\n",
            "['Repay_Aug', 0.2636562313110018]\n",
            "['Repay_July', 0.23523047917113907]\n",
            "['Repay_June', 0.21655085455746415]\n",
            "['Repay_May', 0.2040591287539345]\n",
            "['Repay_Apr', 0.18673962498767838]\n",
            "['LIMIT_BAL', 0.15387103923584186]\n",
            "['Pay_Sept', 0.07301487306669893]\n",
            "['Pay_Aug', 0.05864338192569073]\n",
            "['Pay_June', 0.05689817884175311]\n",
            "['Pay_July', 0.05631938749451024]\n",
            "['Pay_May', 0.055194253060265104]\n",
            "['Pay_Apr', 0.05325020918365988]\n",
            "['SEX', 0.03974164282427612]\n",
            "['EDUCATION', 0.03386151891389182]\n",
            "['MARRIAGE', 0.027258776263673155]\n",
            "['Bill_Sept', 0.019757561189393535]\n",
            "['Bill_Aug', 0.014301695285761657]\n",
            "['Bill_July', 0.014181945965626002]\n",
            "['AGE', 0.01361935111609442]\n",
            "['Bill_June', 0.010259209493695673]\n",
            "['Bill_May', 0.006859294776426955]\n",
            "['Bill_Apr', 0.0054686373405989745]\n"
          ]
        }
      ]
    },
    {
      "cell_type": "code",
      "metadata": {
        "colab": {
          "base_uri": "https://localhost:8080/"
        },
        "id": "NmhRuQa42o6z",
        "outputId": "25e623ab-58ac-4f1a-aae3-5d8362995702"
      },
      "source": [
        "# Similar to above but now calculate spearman correlation \n",
        "\n",
        "# Make a list of the attributes. leave Default in as a check (Deafult's correlation with itself should be 1)\n",
        "corr_list = list(df.columns)\n",
        "# In a for loop calculate the correlation between each attribute and Default\n",
        "l=[]\n",
        "for i in corr_list:\n",
        "  s=[i, df[i].corr(df['Default'], method='spearman')]\n",
        "  l.append(s)\n",
        "# Take the absolute values of the correlations, as we only care about the magnitude of the correlation\n",
        "l_pos =[]\n",
        "for i in l:\n",
        " i = [[i[0],abs (i[1])]]\n",
        " l_pos = l_pos + i\n",
        " #Sort the correlations in descending order (from most correlated to least)\n",
        "l_pos_sorted = sorted(l_pos, key=lambda x: x[1], reverse=True)\n",
        "for k in l_pos_sorted:\n",
        "  print(k)"
      ],
      "execution_count": 6,
      "outputs": [
        {
          "output_type": "stream",
          "name": "stdout",
          "text": [
            "['Default', 1.0]\n",
            "['Repay_Sept', 0.2922890288960366]\n",
            "['Repay_Aug', 0.21703428279373982]\n",
            "['Repay_July', 0.19482404926929714]\n",
            "['Repay_June', 0.1736998571509932]\n",
            "['LIMIT_BAL', 0.16982082056735717]\n",
            "['Pay_Sept', 0.1608762773675027]\n",
            "['Repay_May', 0.1590235519785045]\n",
            "['Pay_Aug', 0.15135618566780026]\n",
            "['Repay_Apr', 0.14246682673212485]\n",
            "['Pay_July', 0.13972623364439504]\n",
            "['Pay_June', 0.12828809351181678]\n",
            "['Pay_Apr', 0.12174495141325181]\n",
            "['Pay_May', 0.11688474705046804]\n",
            "['EDUCATION', 0.04344813807476621]\n",
            "['SEX', 0.03974164282427619]\n",
            "['MARRIAGE', 0.02837326214397729]\n",
            "['Bill_Sept', 0.025598291613017955]\n",
            "['Bill_Aug', 0.01580264903230413]\n",
            "['Bill_July', 0.012909073484816548]\n",
            "['Bill_June', 0.008584884742349913]\n",
            "['Bill_May', 0.007066331466243635]\n",
            "['AGE', 0.004825874560429935]\n",
            "['Bill_Apr', 0.00027871148013815515]\n"
          ]
        }
      ]
    }
  ]
}