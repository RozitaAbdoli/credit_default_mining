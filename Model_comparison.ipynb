{
  "nbformat": 4,
  "nbformat_minor": 0,
  "metadata": {
    "colab": {
      "name": "Model_comparison",
      "provenance": [],
      "collapsed_sections": [],
      "authorship_tag": "ABX9TyP2C77HfCCUwDaNNmc3rde3",
      "include_colab_link": true
    },
    "kernelspec": {
      "name": "python3",
      "display_name": "Python 3"
    },
    "language_info": {
      "name": "python"
    }
  },
  "cells": [
    {
      "cell_type": "markdown",
      "metadata": {
        "id": "view-in-github",
        "colab_type": "text"
      },
      "source": [
        "<a href=\"https://colab.research.google.com/github/RozitaAbdoli/credit_default_mining/blob/main/Model_comparison.ipynb\" target=\"_parent\"><img src=\"https://colab.research.google.com/assets/colab-badge.svg\" alt=\"Open In Colab\"/></a>"
      ]
    },
    {
      "cell_type": "markdown",
      "metadata": {
        "id": "l8Yn7UbfnkRP"
      },
      "source": [
        "### Comparing the performance of multiple ML models"
      ]
    },
    {
      "cell_type": "code",
      "metadata": {
        "id": "1BSSZUNhs9KQ",
        "colab": {
          "base_uri": "https://localhost:8080/"
        },
        "outputId": "de1f2c2a-c8e7-45f9-e994-5b05014d0c4d"
      },
      "source": [
        "import pandas as pd\n",
        "import seaborn as sns\n",
        "\n",
        "from sklearn.model_selection import train_test_split\n",
        "\n",
        "from sklearn import preprocessing\n",
        "from imblearn.combine import SMOTETomek \n",
        "\n",
        "from sklearn.linear_model import LogisticRegression\n",
        "from sklearn.tree import DecisionTreeClassifier\n",
        "from sklearn.neighbors import KNeighborsClassifier\n",
        "from sklearn.discriminant_analysis import QuadraticDiscriminantAnalysis\n",
        "from sklearn.naive_bayes import GaussianNB\n",
        "# from sklearn.neural_network import MLPClassifier\n",
        "# from sklearn.svm import SVC\n",
        "\n",
        "from sklearn.ensemble import RandomForestClassifier\n",
        "from sklearn.ensemble import AdaBoostClassifier\n",
        "from sklearn.ensemble import GradientBoostingClassifier\n",
        "\n",
        "from sklearn.metrics import confusion_matrix, accuracy_score, precision_score, recall_score, roc_curve, roc_auc_score, f1_score"
      ],
      "execution_count": 1,
      "outputs": [
        {
          "output_type": "stream",
          "name": "stderr",
          "text": [
            "/usr/local/lib/python3.7/dist-packages/sklearn/externals/six.py:31: FutureWarning: The module is deprecated in version 0.21 and will be removed in version 0.23 since we've dropped support for Python 2.7. Please rely on the official version of six (https://pypi.org/project/six/).\n",
            "  \"(https://pypi.org/project/six/).\", FutureWarning)\n",
            "/usr/local/lib/python3.7/dist-packages/sklearn/utils/deprecation.py:144: FutureWarning: The sklearn.neighbors.base module is  deprecated in version 0.22 and will be removed in version 0.24. The corresponding classes / functions should instead be imported from sklearn.neighbors. Anything that cannot be imported from sklearn.neighbors is now part of the private API.\n",
            "  warnings.warn(message, FutureWarning)\n"
          ]
        }
      ]
    },
    {
      "cell_type": "code",
      "metadata": {
        "colab": {
          "base_uri": "https://localhost:8080/"
        },
        "id": "vZqXZKNNtKWT",
        "outputId": "b63e685f-243b-4aac-d237-6c59b506936e"
      },
      "source": [
        "#Import Drive API and authenticate\n",
        "from google.colab import drive\n",
        "#Mount Drive to the Colab VM\n",
        "drive.mount('/content/drive')"
      ],
      "execution_count": 2,
      "outputs": [
        {
          "output_type": "stream",
          "name": "stdout",
          "text": [
            "Mounted at /content/drive\n"
          ]
        }
      ]
    },
    {
      "cell_type": "code",
      "metadata": {
        "id": "nWZHZozJuZW_"
      },
      "source": [
        "#Load the dataset into pandas DataFrame\n",
        "df = pd.read_csv(\"/content/drive/MyDrive/Capstone_project/v2_credit_default.csv\")"
      ],
      "execution_count": 3,
      "outputs": []
    },
    {
      "cell_type": "code",
      "metadata": {
        "id": "7kkD5ioWL-QE"
      },
      "source": [
        "# #  Selected features Based on Pearson and Spearman's rank correlations with the dependent variable, and XGBoost feature importance rankings:\n",
        "# df = df[['AGE', 'LIMIT_BAL', 'Pay_Apr', 'Repay_Sept', 'Pay_Sept','Default' ]]"
      ],
      "execution_count": 4,
      "outputs": []
    },
    {
      "cell_type": "code",
      "metadata": {
        "colab": {
          "base_uri": "https://localhost:8080/"
        },
        "id": "wLrZFqzQQ_ZF",
        "outputId": "3a85e6d8-3a5a-42e0-a4d3-37f19c87814f"
      },
      "source": [
        "df.shape"
      ],
      "execution_count": 5,
      "outputs": [
        {
          "output_type": "execute_result",
          "data": {
            "text/plain": [
              "(29965, 24)"
            ]
          },
          "metadata": {},
          "execution_count": 5
        }
      ]
    },
    {
      "cell_type": "code",
      "metadata": {
        "id": "V9mHWG7JtZVD"
      },
      "source": [
        "#Seperate the independent and dependent variables.\n",
        "df_independent = df.drop(['Default'], axis=1)\n",
        "df_default = df['Default']"
      ],
      "execution_count": 6,
      "outputs": []
    },
    {
      "cell_type": "code",
      "metadata": {
        "id": "47RdMkt6tdi6"
      },
      "source": [
        "# split the data into 75% training+validation and 25% test\n",
        "X_train, X_test, y_train, y_test = train_test_split(df_independent, df_default, test_size=0.25, random_state=1) "
      ],
      "execution_count": 7,
      "outputs": []
    },
    {
      "cell_type": "code",
      "metadata": {
        "id": "B5QJjWPXFPaB"
      },
      "source": [
        "# Scale X_train and X_test\n",
        "X_train_scaled = preprocessing.MinMaxScaler().fit_transform(X_train)\n",
        "X_test_scaled = preprocessing.MinMaxScaler().fit_transform(X_test)"
      ],
      "execution_count": 8,
      "outputs": []
    },
    {
      "cell_type": "code",
      "metadata": {
        "colab": {
          "base_uri": "https://localhost:8080/"
        },
        "id": "bHLji_-5FCRl",
        "outputId": "77084664-6c6a-4688-961a-92a13a61b57f"
      },
      "source": [
        "# Balance the training data using SMOTE Tomek\n",
        "X_smt, y_smt = SMOTETomek(random_state=1).fit_sample(X_train_scaled, y_train.squeeze())"
      ],
      "execution_count": 9,
      "outputs": [
        {
          "output_type": "stream",
          "name": "stderr",
          "text": [
            "/usr/local/lib/python3.7/dist-packages/sklearn/utils/deprecation.py:87: FutureWarning: Function safe_indexing is deprecated; safe_indexing is deprecated in version 0.22 and will be removed in version 0.24.\n",
            "  warnings.warn(msg, category=FutureWarning)\n",
            "/usr/local/lib/python3.7/dist-packages/sklearn/utils/deprecation.py:87: FutureWarning: Function safe_indexing is deprecated; safe_indexing is deprecated in version 0.22 and will be removed in version 0.24.\n",
            "  warnings.warn(msg, category=FutureWarning)\n"
          ]
        }
      ]
    },
    {
      "cell_type": "code",
      "metadata": {
        "id": "m5-mG65N_orM"
      },
      "source": [
        "#List the classifiers to be compared\n",
        "names = [\"Logistic_Regression\", \"Decision_Tree\",\"Nearest_Neighbours\", \"QDA\", \"Naive_Bayes\", \"Random_Forest\", \"AdaBoost\", \"GradientBoost\"]  \n",
        "\n",
        "classifiers = [\n",
        "    LogisticRegression(random_state=1, C= 50, penalty= 'l1', solver= 'liblinear'),\n",
        "    DecisionTreeClassifier(max_depth=5),              #set max_depth \n",
        "    KNeighborsClassifier(),                           #n_neighbors=5 \n",
        "    QuadraticDiscriminantAnalysis(),\n",
        "    GaussianNB(),\n",
        "    RandomForestClassifier(max_depth=5, n_estimators=100),\n",
        "    AdaBoostClassifier(n_estimators=100), \n",
        "    GradientBoostingClassifier(n_estimators=100, learning_rate=1.0),           \n",
        "    ]"
      ],
      "execution_count": 10,
      "outputs": []
    },
    {
      "cell_type": "code",
      "metadata": {
        "id": "BP9ITDEi_wkX"
      },
      "source": [
        "accuracies = []\n",
        "precisions = []\n",
        "recalls = []\n",
        "f1_scores = []\n",
        "\n",
        "for name, clf in zip(names, classifiers):\n",
        "    clf.fit(X_train, y_train)\n",
        "    y_pred = clf.predict(X_test)\n",
        "    accuracy = accuracy_score(y_test, y_pred)\n",
        "    accuracies.append(accuracy)\n",
        "    precision = precision_score(y_test, y_pred)\n",
        "    precisions.append(precision)\n",
        "    recall = recall_score(y_test, y_pred)\n",
        "    recalls.append(recall)"
      ],
      "execution_count": 11,
      "outputs": []
    },
    {
      "cell_type": "code",
      "metadata": {
        "colab": {
          "base_uri": "https://localhost:8080/",
          "height": 299
        },
        "id": "PuidISqGjK-O",
        "outputId": "9ca52e91-c046-4476-c6c0-8907bea54f2f"
      },
      "source": [
        "scores_df = pd.DataFrame()\n",
        "scores_df['name'] = names\n",
        "scores_df['accuracy'] = accuracies\n",
        "scores_df['precision'] = precisions\n",
        "scores_df['recall'] = recalls\n",
        "scores_df"
      ],
      "execution_count": 12,
      "outputs": [
        {
          "output_type": "execute_result",
          "data": {
            "text/html": [
              "<div>\n",
              "<style scoped>\n",
              "    .dataframe tbody tr th:only-of-type {\n",
              "        vertical-align: middle;\n",
              "    }\n",
              "\n",
              "    .dataframe tbody tr th {\n",
              "        vertical-align: top;\n",
              "    }\n",
              "\n",
              "    .dataframe thead th {\n",
              "        text-align: right;\n",
              "    }\n",
              "</style>\n",
              "<table border=\"1\" class=\"dataframe\">\n",
              "  <thead>\n",
              "    <tr style=\"text-align: right;\">\n",
              "      <th></th>\n",
              "      <th>name</th>\n",
              "      <th>accuracy</th>\n",
              "      <th>precision</th>\n",
              "      <th>recall</th>\n",
              "    </tr>\n",
              "  </thead>\n",
              "  <tbody>\n",
              "    <tr>\n",
              "      <th>0</th>\n",
              "      <td>Logistic_Regression</td>\n",
              "      <td>0.813267</td>\n",
              "      <td>0.709845</td>\n",
              "      <td>0.250305</td>\n",
              "    </tr>\n",
              "    <tr>\n",
              "      <th>1</th>\n",
              "      <td>Decision_Tree</td>\n",
              "      <td>0.818340</td>\n",
              "      <td>0.659478</td>\n",
              "      <td>0.353837</td>\n",
              "    </tr>\n",
              "    <tr>\n",
              "      <th>2</th>\n",
              "      <td>Nearest_Neighbours</td>\n",
              "      <td>0.757742</td>\n",
              "      <td>0.385733</td>\n",
              "      <td>0.177832</td>\n",
              "    </tr>\n",
              "    <tr>\n",
              "      <th>3</th>\n",
              "      <td>QDA</td>\n",
              "      <td>0.618793</td>\n",
              "      <td>0.334424</td>\n",
              "      <td>0.746650</td>\n",
              "    </tr>\n",
              "    <tr>\n",
              "      <th>4</th>\n",
              "      <td>Naive_Bayes</td>\n",
              "      <td>0.391484</td>\n",
              "      <td>0.247533</td>\n",
              "      <td>0.870889</td>\n",
              "    </tr>\n",
              "    <tr>\n",
              "      <th>5</th>\n",
              "      <td>Random_Forest</td>\n",
              "      <td>0.813801</td>\n",
              "      <td>0.676177</td>\n",
              "      <td>0.288672</td>\n",
              "    </tr>\n",
              "    <tr>\n",
              "      <th>6</th>\n",
              "      <td>AdaBoost</td>\n",
              "      <td>0.815136</td>\n",
              "      <td>0.653892</td>\n",
              "      <td>0.332521</td>\n",
              "    </tr>\n",
              "    <tr>\n",
              "      <th>7</th>\n",
              "      <td>GradientBoost</td>\n",
              "      <td>0.804058</td>\n",
              "      <td>0.582543</td>\n",
              "      <td>0.373934</td>\n",
              "    </tr>\n",
              "  </tbody>\n",
              "</table>\n",
              "</div>"
            ],
            "text/plain": [
              "                  name  accuracy  precision    recall\n",
              "0  Logistic_Regression  0.813267   0.709845  0.250305\n",
              "1        Decision_Tree  0.818340   0.659478  0.353837\n",
              "2   Nearest_Neighbours  0.757742   0.385733  0.177832\n",
              "3                  QDA  0.618793   0.334424  0.746650\n",
              "4          Naive_Bayes  0.391484   0.247533  0.870889\n",
              "5        Random_Forest  0.813801   0.676177  0.288672\n",
              "6             AdaBoost  0.815136   0.653892  0.332521\n",
              "7        GradientBoost  0.804058   0.582543  0.373934"
            ]
          },
          "metadata": {},
          "execution_count": 12
        }
      ]
    }
  ]
}